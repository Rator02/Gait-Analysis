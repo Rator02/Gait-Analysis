{
 "cells": [
  {
   "cell_type": "code",
   "execution_count": 1,
   "id": "38b7cf88",
   "metadata": {},
   "outputs": [],
   "source": [
    "%matplotlib notebook\n",
    "%matplotlib notebook\n",
    "\n",
    "import matplotlib.pyplot as plt"
   ]
  },
  {
   "cell_type": "code",
   "execution_count": 2,
   "id": "01b2ce83",
   "metadata": {},
   "outputs": [],
   "source": [
    "import numpy as np"
   ]
  },
  {
   "cell_type": "code",
   "execution_count": 3,
   "id": "0a95fc83",
   "metadata": {},
   "outputs": [],
   "source": [
    "from scipy import signal\n",
    "import glob\n",
    "import re\n",
    "import pandas as pd"
   ]
  },
  {
   "cell_type": "code",
   "execution_count": 9,
   "id": "07dc1254",
   "metadata": {},
   "outputs": [],
   "source": [
    "folders =glob.glob(r'G:/CIE/Data/Smartphone3/*')"
   ]
  },
  {
   "cell_type": "code",
   "execution_count": 16,
   "id": "8544dea4",
   "metadata": {},
   "outputs": [
    {
     "name": "stdout",
     "output_type": "stream",
     "text": [
      "['G:/CIE/Data/Smartphone3\\\\subject150_downstairs01/Gyroscope.csv']\n",
      "['G:/CIE/Data/Smartphone3\\\\subject150_downstairs01/Accelerometer.csv']\n",
      "['G:/CIE/Data/Smartphone3\\\\subject150_downstairs02/Gyroscope.csv']\n",
      "['G:/CIE/Data/Smartphone3\\\\subject150_downstairs02/Accelerometer.csv']\n",
      "['G:/CIE/Data/Smartphone3\\\\subject150_normal01/Gyroscope.csv']\n",
      "['G:/CIE/Data/Smartphone3\\\\subject150_normal01/Accelerometer.csv']\n",
      "['G:/CIE/Data/Smartphone3\\\\subject150_normal02/Gyroscope.csv']\n",
      "['G:/CIE/Data/Smartphone3\\\\subject150_normal02/Accelerometer.csv']\n",
      "['G:/CIE/Data/Smartphone3\\\\subject150_upstairs01/Gyroscope.csv']\n",
      "['G:/CIE/Data/Smartphone3\\\\subject150_upstairs01/Accelerometer.csv']\n",
      "['G:/CIE/Data/Smartphone3\\\\subject150_upstairs02/Gyroscope.csv']\n",
      "['G:/CIE/Data/Smartphone3\\\\subject150_upstairs02/Accelerometer.csv']\n"
     ]
    }
   ],
   "source": [
    "for folder in folders:\n",
    "    if (\"upstairs\" in folder or \"downstairs\" in folder or \"normal\" in folder) and \"subject150\" in folder:\n",
    "        gyro = glob.glob(folder+'/Gyroscope.csv')\n",
    "        accel = glob.glob(folder+'/Accelerometer.csv')\n",
    "        print(gyro)\n",
    "        print(accel)\n",
    "        "
   ]
  },
  {
   "cell_type": "code",
   "execution_count": null,
   "id": "cbb35208",
   "metadata": {},
   "outputs": [],
   "source": []
  }
 ],
 "metadata": {
  "kernelspec": {
   "display_name": "Python 3",
   "language": "python",
   "name": "python3"
  },
  "language_info": {
   "codemirror_mode": {
    "name": "ipython",
    "version": 3
   },
   "file_extension": ".py",
   "mimetype": "text/x-python",
   "name": "python",
   "nbconvert_exporter": "python",
   "pygments_lexer": "ipython3",
   "version": "3.8.8"
  }
 },
 "nbformat": 4,
 "nbformat_minor": 5
}
