{
 "cells": [
  {
   "cell_type": "code",
   "execution_count": 2,
   "id": "2efc401d",
   "metadata": {},
   "outputs": [],
   "source": [
    "import pandas as pd\n",
    "import numpy as np\n",
    "import matplotlib.pyplot as plt\n",
    "dataset = pd.read_csv(\"Accelerometer.csv\")\n"
   ]
  },
  {
   "cell_type": "code",
   "execution_count": 8,
   "id": "343dbf4c",
   "metadata": {},
   "outputs": [
    {
     "data": {
      "text/html": [
       "<div>\n",
       "<style scoped>\n",
       "    .dataframe tbody tr th:only-of-type {\n",
       "        vertical-align: middle;\n",
       "    }\n",
       "\n",
       "    .dataframe tbody tr th {\n",
       "        vertical-align: top;\n",
       "    }\n",
       "\n",
       "    .dataframe thead th {\n",
       "        text-align: right;\n",
       "    }\n",
       "</style>\n",
       "<table border=\"1\" class=\"dataframe\">\n",
       "  <thead>\n",
       "    <tr style=\"text-align: right;\">\n",
       "      <th></th>\n",
       "      <th>Time (s)</th>\n",
       "      <th>Acceleration x (m/s^2)</th>\n",
       "      <th>Acceleration y (m/s^2)</th>\n",
       "      <th>Acceleration z (m/s^2)</th>\n",
       "    </tr>\n",
       "  </thead>\n",
       "  <tbody>\n",
       "    <tr>\n",
       "      <th>0</th>\n",
       "      <td>0.022430</td>\n",
       "      <td>0.597308</td>\n",
       "      <td>9.208179</td>\n",
       "      <td>2.839981</td>\n",
       "    </tr>\n",
       "    <tr>\n",
       "      <th>1</th>\n",
       "      <td>0.024839</td>\n",
       "      <td>0.616451</td>\n",
       "      <td>9.227323</td>\n",
       "      <td>2.873780</td>\n",
       "    </tr>\n",
       "    <tr>\n",
       "      <th>2</th>\n",
       "      <td>0.027247</td>\n",
       "      <td>0.604487</td>\n",
       "      <td>9.220144</td>\n",
       "      <td>2.883351</td>\n",
       "    </tr>\n",
       "    <tr>\n",
       "      <th>3</th>\n",
       "      <td>0.029654</td>\n",
       "      <td>0.657129</td>\n",
       "      <td>9.222537</td>\n",
       "      <td>2.897708</td>\n",
       "    </tr>\n",
       "    <tr>\n",
       "      <th>4</th>\n",
       "      <td>0.032062</td>\n",
       "      <td>0.614058</td>\n",
       "      <td>9.208179</td>\n",
       "      <td>2.940779</td>\n",
       "    </tr>\n",
       "  </tbody>\n",
       "</table>\n",
       "</div>"
      ],
      "text/plain": [
       "   Time (s)  Acceleration x (m/s^2)  Acceleration y (m/s^2)  \\\n",
       "0  0.022430                0.597308                9.208179   \n",
       "1  0.024839                0.616451                9.227323   \n",
       "2  0.027247                0.604487                9.220144   \n",
       "3  0.029654                0.657129                9.222537   \n",
       "4  0.032062                0.614058                9.208179   \n",
       "\n",
       "   Acceleration z (m/s^2)  \n",
       "0                2.839981  \n",
       "1                2.873780  \n",
       "2                2.883351  \n",
       "3                2.897708  \n",
       "4                2.940779  "
      ]
     },
     "execution_count": 8,
     "metadata": {},
     "output_type": "execute_result"
    }
   ],
   "source": [
    "dataset.head()"
   ]
  },
  {
   "cell_type": "code",
   "execution_count": 9,
   "id": "592de175",
   "metadata": {
    "scrolled": true
   },
   "outputs": [
    {
     "name": "stdout",
     "output_type": "stream",
     "text": [
      "<class 'pandas.core.frame.DataFrame'>\n",
      "RangeIndex: 5441 entries, 0 to 5440\n",
      "Data columns (total 4 columns):\n",
      " #   Column                  Non-Null Count  Dtype  \n",
      "---  ------                  --------------  -----  \n",
      " 0   Time (s)                5441 non-null   float64\n",
      " 1   Acceleration x (m/s^2)  5441 non-null   float64\n",
      " 2   Acceleration y (m/s^2)  5441 non-null   float64\n",
      " 3   Acceleration z (m/s^2)  5441 non-null   float64\n",
      "dtypes: float64(4)\n",
      "memory usage: 170.2 KB\n"
     ]
    }
   ],
   "source": [
    "dataset.info()"
   ]
  },
  {
   "cell_type": "code",
   "execution_count": 14,
   "id": "c2d3dd23",
   "metadata": {},
   "outputs": [
    {
     "data": {
      "text/html": [
       "<div>\n",
       "<style scoped>\n",
       "    .dataframe tbody tr th:only-of-type {\n",
       "        vertical-align: middle;\n",
       "    }\n",
       "\n",
       "    .dataframe tbody tr th {\n",
       "        vertical-align: top;\n",
       "    }\n",
       "\n",
       "    .dataframe thead th {\n",
       "        text-align: right;\n",
       "    }\n",
       "</style>\n",
       "<table border=\"1\" class=\"dataframe\">\n",
       "  <thead>\n",
       "    <tr style=\"text-align: right;\">\n",
       "      <th></th>\n",
       "      <th>Time (s)</th>\n",
       "      <th>Acceleration x (m/s^2)</th>\n",
       "      <th>Acceleration y (m/s^2)</th>\n",
       "      <th>Acceleration z (m/s^2)</th>\n",
       "    </tr>\n",
       "  </thead>\n",
       "  <tbody>\n",
       "    <tr>\n",
       "      <th>count</th>\n",
       "      <td>5441.000000</td>\n",
       "      <td>5441.000000</td>\n",
       "      <td>5441.000000</td>\n",
       "      <td>5441.000000</td>\n",
       "    </tr>\n",
       "    <tr>\n",
       "      <th>mean</th>\n",
       "      <td>6.584108</td>\n",
       "      <td>0.375237</td>\n",
       "      <td>8.899462</td>\n",
       "      <td>3.680020</td>\n",
       "    </tr>\n",
       "    <tr>\n",
       "      <th>std</th>\n",
       "      <td>3.782531</td>\n",
       "      <td>1.636492</td>\n",
       "      <td>1.873811</td>\n",
       "      <td>1.314310</td>\n",
       "    </tr>\n",
       "    <tr>\n",
       "      <th>min</th>\n",
       "      <td>0.022430</td>\n",
       "      <td>-5.112864</td>\n",
       "      <td>4.822435</td>\n",
       "      <td>-0.437288</td>\n",
       "    </tr>\n",
       "    <tr>\n",
       "      <th>25%</th>\n",
       "      <td>3.309312</td>\n",
       "      <td>-0.829711</td>\n",
       "      <td>7.692925</td>\n",
       "      <td>2.808875</td>\n",
       "    </tr>\n",
       "    <tr>\n",
       "      <th>50%</th>\n",
       "      <td>6.584141</td>\n",
       "      <td>0.460618</td>\n",
       "      <td>9.014361</td>\n",
       "      <td>3.646961</td>\n",
       "    </tr>\n",
       "    <tr>\n",
       "      <th>75%</th>\n",
       "      <td>9.858960</td>\n",
       "      <td>1.377668</td>\n",
       "      <td>9.562616</td>\n",
       "      <td>4.482355</td>\n",
       "    </tr>\n",
       "    <tr>\n",
       "      <th>max</th>\n",
       "      <td>13.133776</td>\n",
       "      <td>8.967103</td>\n",
       "      <td>16.977077</td>\n",
       "      <td>8.619545</td>\n",
       "    </tr>\n",
       "  </tbody>\n",
       "</table>\n",
       "</div>"
      ],
      "text/plain": [
       "          Time (s)  Acceleration x (m/s^2)  Acceleration y (m/s^2)  \\\n",
       "count  5441.000000             5441.000000             5441.000000   \n",
       "mean      6.584108                0.375237                8.899462   \n",
       "std       3.782531                1.636492                1.873811   \n",
       "min       0.022430               -5.112864                4.822435   \n",
       "25%       3.309312               -0.829711                7.692925   \n",
       "50%       6.584141                0.460618                9.014361   \n",
       "75%       9.858960                1.377668                9.562616   \n",
       "max      13.133776                8.967103               16.977077   \n",
       "\n",
       "       Acceleration z (m/s^2)  \n",
       "count             5441.000000  \n",
       "mean                 3.680020  \n",
       "std                  1.314310  \n",
       "min                 -0.437288  \n",
       "25%                  2.808875  \n",
       "50%                  3.646961  \n",
       "75%                  4.482355  \n",
       "max                  8.619545  "
      ]
     },
     "execution_count": 14,
     "metadata": {},
     "output_type": "execute_result"
    }
   ],
   "source": [
    "dataset.describe()"
   ]
  },
  {
   "cell_type": "code",
   "execution_count": 21,
   "id": "c8077553",
   "metadata": {},
   "outputs": [
    {
     "name": "stdout",
     "output_type": "stream",
     "text": [
      "Time (s)\n",
      "Acceleration x (m/s^2)\n",
      "Acceleration y (m/s^2)\n",
      "Acceleration z (m/s^2)\n"
     ]
    }
   ],
   "source": [
    "for col in dataset.columns:\n",
    "    print(col)"
   ]
  },
  {
   "cell_type": "code",
   "execution_count": 10,
   "id": "ab1ebc6b",
   "metadata": {},
   "outputs": [],
   "source": [
    "t = dataset[\"Time (s)\"]\n",
    "ax = dataset[\"Acceleration x (m/s^2)\"]\n",
    "ay = dataset[\"Acceleration y (m/s^2)\"]\n",
    "az = dataset[\"Acceleration z (m/s^2)\"]"
   ]
  },
  {
   "cell_type": "code",
   "execution_count": 53,
   "id": "ceebe840",
   "metadata": {},
   "outputs": [
    {
     "data": {
      "image/png": "[encoded data removed]",
      "text/plain": [
       "<Figure size 432x288 with 1 Axes>"
      ]
     },
     "metadata": {
      "needs_background": "light"
     },
     "output_type": "display_data"
    }
   ],
   "source": [
    "plt.plot(t,ax,label = \"Acceleration in x\")\n",
    "plt.plot(t,ay,label = \"Acceleration in y\")\n",
    "plt.plot(t,az,label = \"Acceleration in z\")\n",
    "plt.legend()\n",
    "plt.show()"
   ]
  },
  {
   "cell_type": "code",
   "execution_count": 3,
   "id": "0d34a041",
   "metadata": {},
   "outputs": [
    {
     "data": {
      "text/html": [
       "<div>\n",
       "<style scoped>\n",
       "    .dataframe tbody tr th:only-of-type {\n",
       "        vertical-align: middle;\n",
       "    }\n",
       "\n",
       "    .dataframe tbody tr th {\n",
       "        vertical-align: top;\n",
       "    }\n",
       "\n",
       "    .dataframe thead th {\n",
       "        text-align: right;\n",
       "    }\n",
       "</style>\n",
       "<table border=\"1\" class=\"dataframe\">\n",
       "  <thead>\n",
       "    <tr style=\"text-align: right;\">\n",
       "      <th></th>\n",
       "      <th>Time (s)</th>\n",
       "      <th>Acc_x</th>\n",
       "      <th>Acc_y</th>\n",
       "      <th>Acc_z</th>\n",
       "    </tr>\n",
       "  </thead>\n",
       "  <tbody>\n",
       "    <tr>\n",
       "      <th>0</th>\n",
       "      <td>0.022430</td>\n",
       "      <td>0.597308</td>\n",
       "      <td>9.208179</td>\n",
       "      <td>2.839981</td>\n",
       "    </tr>\n",
       "    <tr>\n",
       "      <th>1</th>\n",
       "      <td>0.024839</td>\n",
       "      <td>0.616451</td>\n",
       "      <td>9.227323</td>\n",
       "      <td>2.873780</td>\n",
       "    </tr>\n",
       "    <tr>\n",
       "      <th>2</th>\n",
       "      <td>0.027247</td>\n",
       "      <td>0.604487</td>\n",
       "      <td>9.220144</td>\n",
       "      <td>2.883351</td>\n",
       "    </tr>\n",
       "    <tr>\n",
       "      <th>3</th>\n",
       "      <td>0.029654</td>\n",
       "      <td>0.657129</td>\n",
       "      <td>9.222537</td>\n",
       "      <td>2.897708</td>\n",
       "    </tr>\n",
       "    <tr>\n",
       "      <th>4</th>\n",
       "      <td>0.032062</td>\n",
       "      <td>0.614058</td>\n",
       "      <td>9.208179</td>\n",
       "      <td>2.940779</td>\n",
       "    </tr>\n",
       "    <tr>\n",
       "      <th>...</th>\n",
       "      <td>...</td>\n",
       "      <td>...</td>\n",
       "      <td>...</td>\n",
       "      <td>...</td>\n",
       "    </tr>\n",
       "    <tr>\n",
       "      <th>5436</th>\n",
       "      <td>13.124144</td>\n",
       "      <td>1.554736</td>\n",
       "      <td>9.208179</td>\n",
       "      <td>2.239084</td>\n",
       "    </tr>\n",
       "    <tr>\n",
       "      <th>5437</th>\n",
       "      <td>13.126552</td>\n",
       "      <td>1.600200</td>\n",
       "      <td>9.246465</td>\n",
       "      <td>2.296512</td>\n",
       "    </tr>\n",
       "    <tr>\n",
       "      <th>5438</th>\n",
       "      <td>13.128961</td>\n",
       "      <td>1.662713</td>\n",
       "      <td>9.241679</td>\n",
       "      <td>2.335096</td>\n",
       "    </tr>\n",
       "    <tr>\n",
       "      <th>5439</th>\n",
       "      <td>13.131368</td>\n",
       "      <td>1.724926</td>\n",
       "      <td>9.261121</td>\n",
       "      <td>2.335096</td>\n",
       "    </tr>\n",
       "    <tr>\n",
       "      <th>5440</th>\n",
       "      <td>13.133776</td>\n",
       "      <td>1.758426</td>\n",
       "      <td>9.253643</td>\n",
       "      <td>2.311167</td>\n",
       "    </tr>\n",
       "  </tbody>\n",
       "</table>\n",
       "<p>5441 rows × 4 columns</p>\n",
       "</div>"
      ],
      "text/plain": [
       "       Time (s)     Acc_x     Acc_y     Acc_z\n",
       "0      0.022430  0.597308  9.208179  2.839981\n",
       "1      0.024839  0.616451  9.227323  2.873780\n",
       "2      0.027247  0.604487  9.220144  2.883351\n",
       "3      0.029654  0.657129  9.222537  2.897708\n",
       "4      0.032062  0.614058  9.208179  2.940779\n",
       "...         ...       ...       ...       ...\n",
       "5436  13.124144  1.554736  9.208179  2.239084\n",
       "5437  13.126552  1.600200  9.246465  2.296512\n",
       "5438  13.128961  1.662713  9.241679  2.335096\n",
       "5439  13.131368  1.724926  9.261121  2.335096\n",
       "5440  13.133776  1.758426  9.253643  2.311167\n",
       "\n",
       "[5441 rows x 4 columns]"
      ]
     },
     "execution_count": 3,
     "metadata": {},
     "output_type": "execute_result"
    }
   ],
   "source": [
    "dataset.rename(columns={'Acceleration x (m/s^2)':'Acc_x','Acceleration y (m/s^2)':'Acc_y','Acceleration z (m/s^2)':'Acc_z'})"
   ]
  },
  {
   "cell_type": "code",
   "execution_count": 12,
   "id": "32c4be12",
   "metadata": {},
   "outputs": [
    {
     "data": {
      "text/plain": [
       "Time (s)                  float64\n",
       "Acceleration x (m/s^2)    float64\n",
       "Acceleration y (m/s^2)    float64\n",
       "Acceleration z (m/s^2)    float64\n",
       "dtype: object"
      ]
     },
     "execution_count": 12,
     "metadata": {},
     "output_type": "execute_result"
    }
   ],
   "source": [
    "dataset.dtypes\n"
   ]
  },
  {
   "cell_type": "code",
   "execution_count": 13,
   "id": "f99149ba",
   "metadata": {},
   "outputs": [
    {
     "data": {
      "text/plain": [
       "<AxesSubplot:>"
      ]
     },
     "execution_count": 13,
     "metadata": {},
     "output_type": "execute_result"
    },
    {
     "data": {
      "image/png": "[encoded data removed]",
      "text/plain": [
       "<Figure size 432x288 with 1 Axes>"
      ]
     },
     "metadata": {
      "needs_background": "light"
     },
     "output_type": "display_data"
    }
   ],
   "source": [
    "dataset.plot()"
   ]
  },
  {
   "cell_type": "code",
   "execution_count": 14,
   "id": "7cc37a2b",
   "metadata": {},
   "outputs": [
    {
     "data": {
      "text/html": [
       "<div>\n",
       "<style scoped>\n",
       "    .dataframe tbody tr th:only-of-type {\n",
       "        vertical-align: middle;\n",
       "    }\n",
       "\n",
       "    .dataframe tbody tr th {\n",
       "        vertical-align: top;\n",
       "    }\n",
       "\n",
       "    .dataframe thead th {\n",
       "        text-align: right;\n",
       "    }\n",
       "</style>\n",
       "<table border=\"1\" class=\"dataframe\">\n",
       "  <thead>\n",
       "    <tr style=\"text-align: right;\">\n",
       "      <th></th>\n",
       "      <th>Time (s)</th>\n",
       "      <th>Acceleration x (m/s^2)</th>\n",
       "      <th>Acceleration y (m/s^2)</th>\n",
       "      <th>Acceleration z (m/s^2)</th>\n",
       "    </tr>\n",
       "  </thead>\n",
       "  <tbody>\n",
       "    <tr>\n",
       "      <th>0</th>\n",
       "      <td>False</td>\n",
       "      <td>False</td>\n",
       "      <td>False</td>\n",
       "      <td>False</td>\n",
       "    </tr>\n",
       "    <tr>\n",
       "      <th>1</th>\n",
       "      <td>False</td>\n",
       "      <td>False</td>\n",
       "      <td>False</td>\n",
       "      <td>False</td>\n",
       "    </tr>\n",
       "    <tr>\n",
       "      <th>2</th>\n",
       "      <td>False</td>\n",
       "      <td>False</td>\n",
       "      <td>False</td>\n",
       "      <td>False</td>\n",
       "    </tr>\n",
       "    <tr>\n",
       "      <th>3</th>\n",
       "      <td>False</td>\n",
       "      <td>False</td>\n",
       "      <td>False</td>\n",
       "      <td>False</td>\n",
       "    </tr>\n",
       "    <tr>\n",
       "      <th>4</th>\n",
       "      <td>False</td>\n",
       "      <td>False</td>\n",
       "      <td>False</td>\n",
       "      <td>False</td>\n",
       "    </tr>\n",
       "    <tr>\n",
       "      <th>...</th>\n",
       "      <td>...</td>\n",
       "      <td>...</td>\n",
       "      <td>...</td>\n",
       "      <td>...</td>\n",
       "    </tr>\n",
       "    <tr>\n",
       "      <th>5436</th>\n",
       "      <td>False</td>\n",
       "      <td>False</td>\n",
       "      <td>False</td>\n",
       "      <td>False</td>\n",
       "    </tr>\n",
       "    <tr>\n",
       "      <th>5437</th>\n",
       "      <td>False</td>\n",
       "      <td>False</td>\n",
       "      <td>False</td>\n",
       "      <td>False</td>\n",
       "    </tr>\n",
       "    <tr>\n",
       "      <th>5438</th>\n",
       "      <td>False</td>\n",
       "      <td>False</td>\n",
       "      <td>False</td>\n",
       "      <td>False</td>\n",
       "    </tr>\n",
       "    <tr>\n",
       "      <th>5439</th>\n",
       "      <td>False</td>\n",
       "      <td>False</td>\n",
       "      <td>False</td>\n",
       "      <td>False</td>\n",
       "    </tr>\n",
       "    <tr>\n",
       "      <th>5440</th>\n",
       "      <td>False</td>\n",
       "      <td>False</td>\n",
       "      <td>False</td>\n",
       "      <td>False</td>\n",
       "    </tr>\n",
       "  </tbody>\n",
       "</table>\n",
       "<p>5441 rows × 4 columns</p>\n",
       "</div>"
      ],
      "text/plain": [
       "      Time (s)  Acceleration x (m/s^2)  Acceleration y (m/s^2)  \\\n",
       "0        False                   False                   False   \n",
       "1        False                   False                   False   \n",
       "2        False                   False                   False   \n",
       "3        False                   False                   False   \n",
       "4        False                   False                   False   \n",
       "...        ...                     ...                     ...   \n",
       "5436     False                   False                   False   \n",
       "5437     False                   False                   False   \n",
       "5438     False                   False                   False   \n",
       "5439     False                   False                   False   \n",
       "5440     False                   False                   False   \n",
       "\n",
       "      Acceleration z (m/s^2)  \n",
       "0                      False  \n",
       "1                      False  \n",
       "2                      False  \n",
       "3                      False  \n",
       "4                      False  \n",
       "...                      ...  \n",
       "5436                   False  \n",
       "5437                   False  \n",
       "5438                   False  \n",
       "5439                   False  \n",
       "5440                   False  \n",
       "\n",
       "[5441 rows x 4 columns]"
      ]
     },
     "execution_count": 14,
     "metadata": {},
     "output_type": "execute_result"
    }
   ],
   "source": [
    "pd.isnull(dataset)"
   ]
  },
  {
   "cell_type": "code",
   "execution_count": 17,
   "id": "c8733409",
   "metadata": {},
   "outputs": [
    {
     "data": {
      "text/plain": [
       "Time (s)                  0\n",
       "Acceleration x (m/s^2)    0\n",
       "Acceleration y (m/s^2)    0\n",
       "Acceleration z (m/s^2)    0\n",
       "dtype: int64"
      ]
     },
     "execution_count": 17,
     "metadata": {},
     "output_type": "execute_result"
    }
   ],
   "source": [
    "dataset.isnull().sum()"
   ]
  },
  {
   "cell_type": "code",
   "execution_count": null,
   "id": "fb77be23",
   "metadata": {},
   "outputs": [],
   "source": []
  }
 ],
 "metadata": {
  "kernelspec": {
   "display_name": "Python 3 (ipykernel)",
   "language": "python",
   "name": "python3"
  },
  "language_info": {
   "codemirror_mode": {
    "name": "ipython",
    "version": 3
   },
   "file_extension": ".py",
   "mimetype": "text/x-python",
   "name": "python",
   "nbconvert_exporter": "python",
   "pygments_lexer": "ipython3",
   "version": "3.8.10"
  }
 },
 "nbformat": 4,
 "nbformat_minor": 5
}
