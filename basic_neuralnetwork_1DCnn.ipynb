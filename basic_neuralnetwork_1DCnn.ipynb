{
 "cells": [
  {
   "cell_type": "code",
   "execution_count": 36,
   "id": "53880757",
   "metadata": {},
   "outputs": [],
   "source": [
    "import tensorflow as tf\n",
    "from tensorflow.keras import Sequential\n",
    "from tensorflow.keras.layers import Flatten, Dense, Dropout, BatchNormalization\n",
    "from tensorflow.keras.layers import Conv1D, MaxPooling1D\n",
    "from tensorflow.keras.optimizers import Adam"
   ]
  },
  {
   "cell_type": "code",
   "execution_count": 2,
   "id": "e5c7cb43",
   "metadata": {},
   "outputs": [],
   "source": [
    "import pandas as pd\n",
    "import numpy as np\n",
    "import matplotlib.pyplot as plt\n",
    "from sklearn.model_selection import train_test_split\n",
    "from sklearn.preprocessing import StandardScaler, LabelEncoder"
   ]
  },
  {
   "cell_type": "code",
   "execution_count": 4,
   "id": "776d9b3c",
   "metadata": {},
   "outputs": [],
   "source": [
    "data = pd.read_csv('test_file.csv')"
   ]
  },
  {
   "cell_type": "code",
   "execution_count": 5,
   "id": "6b68c95d",
   "metadata": {},
   "outputs": [],
   "source": [
    "new_data = data.dropna(axis=0).copy()"
   ]
  },
  {
   "cell_type": "code",
   "execution_count": 6,
   "id": "312f371d",
   "metadata": {},
   "outputs": [
    {
     "data": {
      "text/html": [
       "<div>\n",
       "<style scoped>\n",
       "    .dataframe tbody tr th:only-of-type {\n",
       "        vertical-align: middle;\n",
       "    }\n",
       "\n",
       "    .dataframe tbody tr th {\n",
       "        vertical-align: top;\n",
       "    }\n",
       "\n",
       "    .dataframe thead th {\n",
       "        text-align: right;\n",
       "    }\n",
       "</style>\n",
       "<table border=\"1\" class=\"dataframe\">\n",
       "  <thead>\n",
       "    <tr style=\"text-align: right;\">\n",
       "      <th></th>\n",
       "      <th>activity</th>\n",
       "      <th>ax</th>\n",
       "      <th>ay</th>\n",
       "      <th>az</th>\n",
       "      <th>gx</th>\n",
       "      <th>gy</th>\n",
       "      <th>gz</th>\n",
       "      <th>label</th>\n",
       "    </tr>\n",
       "  </thead>\n",
       "  <tbody>\n",
       "    <tr>\n",
       "      <th>0</th>\n",
       "      <td>normal</td>\n",
       "      <td>-2.07</td>\n",
       "      <td>4.00</td>\n",
       "      <td>8.22</td>\n",
       "      <td>-0.540</td>\n",
       "      <td>-1.06</td>\n",
       "      <td>0.907</td>\n",
       "      <td>1</td>\n",
       "    </tr>\n",
       "    <tr>\n",
       "      <th>1</th>\n",
       "      <td>normal</td>\n",
       "      <td>-2.13</td>\n",
       "      <td>4.03</td>\n",
       "      <td>8.20</td>\n",
       "      <td>-0.515</td>\n",
       "      <td>-1.08</td>\n",
       "      <td>0.910</td>\n",
       "      <td>1</td>\n",
       "    </tr>\n",
       "    <tr>\n",
       "      <th>2</th>\n",
       "      <td>normal</td>\n",
       "      <td>-2.20</td>\n",
       "      <td>4.10</td>\n",
       "      <td>8.22</td>\n",
       "      <td>-0.491</td>\n",
       "      <td>-1.10</td>\n",
       "      <td>0.913</td>\n",
       "      <td>1</td>\n",
       "    </tr>\n",
       "    <tr>\n",
       "      <th>3</th>\n",
       "      <td>normal</td>\n",
       "      <td>-2.28</td>\n",
       "      <td>4.14</td>\n",
       "      <td>8.23</td>\n",
       "      <td>-0.459</td>\n",
       "      <td>-1.12</td>\n",
       "      <td>0.917</td>\n",
       "      <td>1</td>\n",
       "    </tr>\n",
       "    <tr>\n",
       "      <th>4</th>\n",
       "      <td>normal</td>\n",
       "      <td>-2.36</td>\n",
       "      <td>4.22</td>\n",
       "      <td>8.24</td>\n",
       "      <td>-0.431</td>\n",
       "      <td>-1.13</td>\n",
       "      <td>0.919</td>\n",
       "      <td>1</td>\n",
       "    </tr>\n",
       "  </tbody>\n",
       "</table>\n",
       "</div>"
      ],
      "text/plain": [
       "  activity    ax    ay    az     gx    gy     gz  label\n",
       "0   normal -2.07  4.00  8.22 -0.540 -1.06  0.907      1\n",
       "1   normal -2.13  4.03  8.20 -0.515 -1.08  0.910      1\n",
       "2   normal -2.20  4.10  8.22 -0.491 -1.10  0.913      1\n",
       "3   normal -2.28  4.14  8.23 -0.459 -1.12  0.917      1\n",
       "4   normal -2.36  4.22  8.24 -0.431 -1.13  0.919      1"
      ]
     },
     "execution_count": 6,
     "metadata": {},
     "output_type": "execute_result"
    }
   ],
   "source": [
    "label = LabelEncoder()                       ###labelling the string to integers\n",
    "\n",
    "new_data['label'] = label.fit_transform(new_data['activity'])\n",
    "new_data.head()"
   ]
  },
  {
   "cell_type": "code",
   "execution_count": 7,
   "id": "c7215a69",
   "metadata": {},
   "outputs": [],
   "source": [
    "new_data['ax'] = new_data['ax'].astype(float)         ###convert the data to float\n",
    "new_data['ay'] = new_data['ay'].astype(float)\n",
    "new_data['az'] = new_data['az'].astype(float)\n",
    "new_data['gx'] = new_data['gx'].astype(float)\n",
    "new_data['gy'] = new_data['gy'].astype(float)\n",
    "new_data['gz'] = new_data['gz'].astype(float)"
   ]
  },
  {
   "cell_type": "code",
   "execution_count": 8,
   "id": "d4feb5f3",
   "metadata": {},
   "outputs": [],
   "source": [
    "normal = new_data[new_data['activity']=='normal'].head(3753).copy()                 #### not needed in final code as data will be balanced.... \n",
    "                                                                            #### This is just a random csv file I made to check the code\n",
    "downstairs = new_data[new_data['activity']=='downstairs'].head(3753).copy()\n",
    "upstairs = new_data[new_data['activity']=='upstairs'].head(3753).copy()"
   ]
  },
  {
   "cell_type": "code",
   "execution_count": 9,
   "id": "9446b6cf",
   "metadata": {},
   "outputs": [
    {
     "data": {
      "text/html": [
       "<div>\n",
       "<style scoped>\n",
       "    .dataframe tbody tr th:only-of-type {\n",
       "        vertical-align: middle;\n",
       "    }\n",
       "\n",
       "    .dataframe tbody tr th {\n",
       "        vertical-align: top;\n",
       "    }\n",
       "\n",
       "    .dataframe thead th {\n",
       "        text-align: right;\n",
       "    }\n",
       "</style>\n",
       "<table border=\"1\" class=\"dataframe\">\n",
       "  <thead>\n",
       "    <tr style=\"text-align: right;\">\n",
       "      <th></th>\n",
       "      <th>activity</th>\n",
       "      <th>ax</th>\n",
       "      <th>ay</th>\n",
       "      <th>az</th>\n",
       "      <th>gx</th>\n",
       "      <th>gy</th>\n",
       "      <th>gz</th>\n",
       "      <th>label</th>\n",
       "    </tr>\n",
       "  </thead>\n",
       "  <tbody>\n",
       "    <tr>\n",
       "      <th>0</th>\n",
       "      <td>normal</td>\n",
       "      <td>-2.07</td>\n",
       "      <td>4.00</td>\n",
       "      <td>8.22</td>\n",
       "      <td>-0.540</td>\n",
       "      <td>-1.06</td>\n",
       "      <td>0.907</td>\n",
       "      <td>1</td>\n",
       "    </tr>\n",
       "    <tr>\n",
       "      <th>1</th>\n",
       "      <td>normal</td>\n",
       "      <td>-2.13</td>\n",
       "      <td>4.03</td>\n",
       "      <td>8.20</td>\n",
       "      <td>-0.515</td>\n",
       "      <td>-1.08</td>\n",
       "      <td>0.910</td>\n",
       "      <td>1</td>\n",
       "    </tr>\n",
       "    <tr>\n",
       "      <th>2</th>\n",
       "      <td>normal</td>\n",
       "      <td>-2.20</td>\n",
       "      <td>4.10</td>\n",
       "      <td>8.22</td>\n",
       "      <td>-0.491</td>\n",
       "      <td>-1.10</td>\n",
       "      <td>0.913</td>\n",
       "      <td>1</td>\n",
       "    </tr>\n",
       "    <tr>\n",
       "      <th>3</th>\n",
       "      <td>normal</td>\n",
       "      <td>-2.28</td>\n",
       "      <td>4.14</td>\n",
       "      <td>8.23</td>\n",
       "      <td>-0.459</td>\n",
       "      <td>-1.12</td>\n",
       "      <td>0.917</td>\n",
       "      <td>1</td>\n",
       "    </tr>\n",
       "    <tr>\n",
       "      <th>4</th>\n",
       "      <td>normal</td>\n",
       "      <td>-2.36</td>\n",
       "      <td>4.22</td>\n",
       "      <td>8.24</td>\n",
       "      <td>-0.431</td>\n",
       "      <td>-1.13</td>\n",
       "      <td>0.919</td>\n",
       "      <td>1</td>\n",
       "    </tr>\n",
       "  </tbody>\n",
       "</table>\n",
       "</div>"
      ],
      "text/plain": [
       "  activity    ax    ay    az     gx    gy     gz  label\n",
       "0   normal -2.07  4.00  8.22 -0.540 -1.06  0.907      1\n",
       "1   normal -2.13  4.03  8.20 -0.515 -1.08  0.910      1\n",
       "2   normal -2.20  4.10  8.22 -0.491 -1.10  0.913      1\n",
       "3   normal -2.28  4.14  8.23 -0.459 -1.12  0.917      1\n",
       "4   normal -2.36  4.22  8.24 -0.431 -1.13  0.919      1"
      ]
     },
     "execution_count": 9,
     "metadata": {},
     "output_type": "execute_result"
    }
   ],
   "source": [
    "final_data = pd.DataFrame()                            ####creating dataframe.... Not needed\n",
    "final_data = final_data.append([normal, upstairs, downstairs])\n",
    "final_data.shape\n",
    "final_data.head()"
   ]
  },
  {
   "cell_type": "code",
   "execution_count": 10,
   "id": "c2f99e3b",
   "metadata": {},
   "outputs": [
    {
     "data": {
      "text/plain": [
       "normal        3753\n",
       "upstairs      3753\n",
       "downstairs    3753\n",
       "Name: activity, dtype: int64"
      ]
     },
     "execution_count": 10,
     "metadata": {},
     "output_type": "execute_result"
    }
   ],
   "source": [
    "final_data.value_counts()\n",
    "final_data['activity'].value_counts()"
   ]
  },
  {
   "cell_type": "code",
   "execution_count": 12,
   "id": "c1a5e127",
   "metadata": {},
   "outputs": [],
   "source": [
    "### Data Standarisation\n",
    "\n",
    "x = final_data[['ax', 'ay', 'az', 'gx', 'gy', 'gz']]\n",
    "y = final_data['label']"
   ]
  },
  {
   "cell_type": "code",
   "execution_count": 13,
   "id": "20000809",
   "metadata": {},
   "outputs": [
    {
     "data": {
      "text/html": [
       "<div>\n",
       "<style scoped>\n",
       "    .dataframe tbody tr th:only-of-type {\n",
       "        vertical-align: middle;\n",
       "    }\n",
       "\n",
       "    .dataframe tbody tr th {\n",
       "        vertical-align: top;\n",
       "    }\n",
       "\n",
       "    .dataframe thead th {\n",
       "        text-align: right;\n",
       "    }\n",
       "</style>\n",
       "<table border=\"1\" class=\"dataframe\">\n",
       "  <thead>\n",
       "    <tr style=\"text-align: right;\">\n",
       "      <th></th>\n",
       "      <th>ax</th>\n",
       "      <th>ay</th>\n",
       "      <th>az</th>\n",
       "      <th>gx</th>\n",
       "      <th>gy</th>\n",
       "      <th>gz</th>\n",
       "      <th>label</th>\n",
       "    </tr>\n",
       "  </thead>\n",
       "  <tbody>\n",
       "    <tr>\n",
       "      <th>0</th>\n",
       "      <td>-1.236010</td>\n",
       "      <td>3.193491</td>\n",
       "      <td>1.793126</td>\n",
       "      <td>-0.634609</td>\n",
       "      <td>-1.299356</td>\n",
       "      <td>1.030879</td>\n",
       "      <td>1</td>\n",
       "    </tr>\n",
       "    <tr>\n",
       "      <th>1</th>\n",
       "      <td>-1.256316</td>\n",
       "      <td>3.201316</td>\n",
       "      <td>1.785786</td>\n",
       "      <td>-0.602253</td>\n",
       "      <td>-1.324355</td>\n",
       "      <td>1.034480</td>\n",
       "      <td>1</td>\n",
       "    </tr>\n",
       "    <tr>\n",
       "      <th>2</th>\n",
       "      <td>-1.280007</td>\n",
       "      <td>3.219573</td>\n",
       "      <td>1.793126</td>\n",
       "      <td>-0.571191</td>\n",
       "      <td>-1.349354</td>\n",
       "      <td>1.038081</td>\n",
       "      <td>1</td>\n",
       "    </tr>\n",
       "    <tr>\n",
       "      <th>3</th>\n",
       "      <td>-1.307081</td>\n",
       "      <td>3.230006</td>\n",
       "      <td>1.796796</td>\n",
       "      <td>-0.529775</td>\n",
       "      <td>-1.374353</td>\n",
       "      <td>1.042883</td>\n",
       "      <td>1</td>\n",
       "    </tr>\n",
       "    <tr>\n",
       "      <th>4</th>\n",
       "      <td>-1.334156</td>\n",
       "      <td>3.250872</td>\n",
       "      <td>1.800466</td>\n",
       "      <td>-0.493536</td>\n",
       "      <td>-1.386853</td>\n",
       "      <td>1.045283</td>\n",
       "      <td>1</td>\n",
       "    </tr>\n",
       "    <tr>\n",
       "      <th>...</th>\n",
       "      <td>...</td>\n",
       "      <td>...</td>\n",
       "      <td>...</td>\n",
       "      <td>...</td>\n",
       "      <td>...</td>\n",
       "      <td>...</td>\n",
       "      <td>...</td>\n",
       "    </tr>\n",
       "    <tr>\n",
       "      <th>11254</th>\n",
       "      <td>1.007811</td>\n",
       "      <td>0.001018</td>\n",
       "      <td>-0.243684</td>\n",
       "      <td>0.073515</td>\n",
       "      <td>-0.105651</td>\n",
       "      <td>-0.057218</td>\n",
       "      <td>0</td>\n",
       "    </tr>\n",
       "    <tr>\n",
       "      <th>11255</th>\n",
       "      <td>1.051807</td>\n",
       "      <td>-0.001591</td>\n",
       "      <td>-0.258363</td>\n",
       "      <td>0.065081</td>\n",
       "      <td>-0.131900</td>\n",
       "      <td>-0.058754</td>\n",
       "      <td>0</td>\n",
       "    </tr>\n",
       "    <tr>\n",
       "      <th>11256</th>\n",
       "      <td>1.156722</td>\n",
       "      <td>-0.035498</td>\n",
       "      <td>-0.258363</td>\n",
       "      <td>0.078007</td>\n",
       "      <td>-0.143149</td>\n",
       "      <td>-0.050277</td>\n",
       "      <td>0</td>\n",
       "    </tr>\n",
       "    <tr>\n",
       "      <th>11257</th>\n",
       "      <td>1.116110</td>\n",
       "      <td>-0.051147</td>\n",
       "      <td>-0.295063</td>\n",
       "      <td>0.092114</td>\n",
       "      <td>-0.151899</td>\n",
       "      <td>-0.043591</td>\n",
       "      <td>0</td>\n",
       "    </tr>\n",
       "    <tr>\n",
       "      <th>11258</th>\n",
       "      <td>1.051807</td>\n",
       "      <td>-0.040714</td>\n",
       "      <td>-0.320752</td>\n",
       "      <td>0.097938</td>\n",
       "      <td>-0.146899</td>\n",
       "      <td>-0.040230</td>\n",
       "      <td>0</td>\n",
       "    </tr>\n",
       "  </tbody>\n",
       "</table>\n",
       "<p>11259 rows × 7 columns</p>\n",
       "</div>"
      ],
      "text/plain": [
       "             ax        ay        az        gx        gy        gz  label\n",
       "0     -1.236010  3.193491  1.793126 -0.634609 -1.299356  1.030879      1\n",
       "1     -1.256316  3.201316  1.785786 -0.602253 -1.324355  1.034480      1\n",
       "2     -1.280007  3.219573  1.793126 -0.571191 -1.349354  1.038081      1\n",
       "3     -1.307081  3.230006  1.796796 -0.529775 -1.374353  1.042883      1\n",
       "4     -1.334156  3.250872  1.800466 -0.493536 -1.386853  1.045283      1\n",
       "...         ...       ...       ...       ...       ...       ...    ...\n",
       "11254  1.007811  0.001018 -0.243684  0.073515 -0.105651 -0.057218      0\n",
       "11255  1.051807 -0.001591 -0.258363  0.065081 -0.131900 -0.058754      0\n",
       "11256  1.156722 -0.035498 -0.258363  0.078007 -0.143149 -0.050277      0\n",
       "11257  1.116110 -0.051147 -0.295063  0.092114 -0.151899 -0.043591      0\n",
       "11258  1.051807 -0.040714 -0.320752  0.097938 -0.146899 -0.040230      0\n",
       "\n",
       "[11259 rows x 7 columns]"
      ]
     },
     "execution_count": 13,
     "metadata": {},
     "output_type": "execute_result"
    }
   ],
   "source": [
    "scaler = StandardScaler()\n",
    "X = scaler.fit_transform(x)\n",
    "\n",
    "scaled_X = pd.DataFrame(data = X, columns=['ax', 'ay', 'az', 'gx', 'gy', 'gz'])\n",
    "scaled_X['label'] = y.values\n",
    "\n",
    "scaled_X"
   ]
  },
  {
   "cell_type": "code",
   "execution_count": 14,
   "id": "0f603e72",
   "metadata": {},
   "outputs": [],
   "source": [
    "import scipy.stats as stats"
   ]
  },
  {
   "cell_type": "code",
   "execution_count": 15,
   "id": "c0c4e09f",
   "metadata": {},
   "outputs": [],
   "source": [
    "###Frame Preparation\n",
    "\n",
    "Fs = 50\n",
    "\n",
    "frame_size = Fs*4\n",
    "hop_size = Fs*2"
   ]
  },
  {
   "cell_type": "code",
   "execution_count": 16,
   "id": "2eb4deec",
   "metadata": {},
   "outputs": [],
   "source": [
    "def get_frames(data, frame_size, hop_size):\n",
    "\n",
    "    N_FEATURES = 6\n",
    "\n",
    "    frames = []\n",
    "    labels = []\n",
    "    for i in range(0, len(data) - frame_size, hop_size):\n",
    "        x1 = data['ax'].values[i: i + frame_size]\n",
    "        y1 = data['ay'].values[i: i + frame_size]\n",
    "        z1 = data['az'].values[i: i + frame_size]\n",
    "        x2 = data['gx'].values[i: i + frame_size]\n",
    "        y2 = data['gy'].values[i: i + frame_size]\n",
    "        z2 = data['gz'].values[i: i + frame_size]\n",
    "        \n",
    "        # Retrieve the most often used label in this segment\n",
    "        label = stats.mode(data['label'][i: i + frame_size])[0][0]\n",
    "        frames.append([x1, y1, z1, x2, y2, z2])\n",
    "        labels.append(label)\n",
    "\n",
    "    # Bring the segments into a better shape\n",
    "    frames = np.asarray(frames).reshape(-1, frame_size, N_FEATURES)\n",
    "    labels = np.asarray(labels)\n",
    "\n",
    "    return frames, labels"
   ]
  },
  {
   "cell_type": "code",
   "execution_count": 17,
   "id": "fb15b5c7",
   "metadata": {},
   "outputs": [
    {
     "data": {
      "text/plain": [
       "((111, 200, 6), (111,))"
      ]
     },
     "execution_count": 17,
     "metadata": {},
     "output_type": "execute_result"
    }
   ],
   "source": [
    "X, y = get_frames(scaled_X, frame_size, hop_size)\n",
    "\n",
    "X.shape, y.shape"
   ]
  },
  {
   "cell_type": "code",
   "execution_count": 19,
   "id": "95088c52",
   "metadata": {},
   "outputs": [
    {
     "data": {
      "text/plain": [
       "((88, 200, 6), (23, 200, 6))"
      ]
     },
     "execution_count": 19,
     "metadata": {},
     "output_type": "execute_result"
    }
   ],
   "source": [
    "X_train, X_test, y_train, y_test = train_test_split(X, y, test_size = 0.2, random_state=0, stratify = y)\n",
    "X_train.shape, X_test.shape"
   ]
  },
  {
   "cell_type": "code",
   "execution_count": 20,
   "id": "ea74239c",
   "metadata": {},
   "outputs": [
    {
     "data": {
      "text/plain": [
       "((200, 6), (200, 6))"
      ]
     },
     "execution_count": 20,
     "metadata": {},
     "output_type": "execute_result"
    }
   ],
   "source": [
    "X_train[0].shape, X_test[0].shape"
   ]
  },
  {
   "cell_type": "code",
   "execution_count": 25,
   "id": "69df3390",
   "metadata": {},
   "outputs": [
    {
     "data": {
      "text/plain": [
       "((200, 6), (200, 6))"
      ]
     },
     "execution_count": 25,
     "metadata": {},
     "output_type": "execute_result"
    }
   ],
   "source": [
    "X_train[87].shape, X_test[22].shape"
   ]
  },
  {
   "cell_type": "code",
   "execution_count": 29,
   "id": "59f240a5",
   "metadata": {},
   "outputs": [
    {
     "data": {
      "text/plain": [
       "((88,), (23,))"
      ]
     },
     "execution_count": 29,
     "metadata": {},
     "output_type": "execute_result"
    }
   ],
   "source": [
    "y_train.shape, y_test.shape"
   ]
  },
  {
   "cell_type": "code",
   "execution_count": null,
   "id": "5b913b02",
   "metadata": {},
   "outputs": [],
   "source": []
  },
  {
   "cell_type": "code",
   "execution_count": null,
   "id": "36dc6840",
   "metadata": {},
   "outputs": [],
   "source": []
  },
  {
   "cell_type": "code",
   "execution_count": null,
   "id": "daab796e",
   "metadata": {},
   "outputs": [],
   "source": []
  },
  {
   "cell_type": "code",
   "execution_count": 30,
   "id": "26e5a7ab",
   "metadata": {},
   "outputs": [],
   "source": [
    "n_timesteps, n_features, n_outputs = X_train.shape[1], X_train.shape[2], y_train.shape[0]"
   ]
  },
  {
   "cell_type": "code",
   "execution_count": 66,
   "id": "5538b767",
   "metadata": {},
   "outputs": [],
   "source": [
    "def evaluate_model(trainX, trainy, testX, testy):\n",
    "\tverbose, epochs, batch_size = 0, 10, 32\n",
    "\tn_timesteps, n_features, n_outputs = trainX.shape[1], trainX.shape[2], trainy.shape[0]\n",
    "\tmodel = Sequential()\n",
    "\tmodel.add(Conv1D(filters=64, kernel_size=3, activation='relu', input_shape=(n_timesteps,n_features)))\n",
    "\tmodel.add(Conv1D(filters=64, kernel_size=3, activation='relu'))\n",
    "\tmodel.add(Dropout(0.5))\n",
    "\tmodel.add(MaxPooling1D(pool_size=2))\n",
    "\tmodel.add(Flatten())\n",
    "\tmodel.add(Dense(100, activation='relu'))\n",
    "\tmodel.add(Dense(n_outputs, activation='softmax'))\n",
    "\tmodel.compile(loss='sparse_categorical_crossentropy', optimizer='adam', metrics=['accuracy'])\n",
    "\t# fit network\n",
    "\tmodel.fit(trainX, trainy, epochs=epochs, batch_size=batch_size, verbose=verbose)\n",
    "\t# evaluate model\n",
    "\t_, accuracy = model.evaluate(testX, testy, batch_size=batch_size, verbose=0)\n",
    "\treturn accuracy"
   ]
  },
  {
   "cell_type": "code",
   "execution_count": 67,
   "id": "dc708066",
   "metadata": {},
   "outputs": [
    {
     "data": {
      "text/plain": [
       "0.6086956262588501"
      ]
     },
     "execution_count": 67,
     "metadata": {},
     "output_type": "execute_result"
    }
   ],
   "source": [
    "evaluate_model(X_train,y_train,X_test,y_test)"
   ]
  },
  {
   "cell_type": "code",
   "execution_count": null,
   "id": "f6716979",
   "metadata": {},
   "outputs": [],
   "source": []
  },
  {
   "cell_type": "code",
   "execution_count": null,
   "id": "9ffa29c1",
   "metadata": {},
   "outputs": [],
   "source": []
  },
  {
   "cell_type": "code",
   "execution_count": null,
   "id": "08a7dd10",
   "metadata": {},
   "outputs": [],
   "source": []
  }
 ],
 "metadata": {
  "kernelspec": {
   "display_name": "Python 3 (ipykernel)",
   "language": "python",
   "name": "python3"
  },
  "language_info": {
   "codemirror_mode": {
    "name": "ipython",
    "version": 3
   },
   "file_extension": ".py",
   "mimetype": "text/x-python",
   "name": "python",
   "nbconvert_exporter": "python",
   "pygments_lexer": "ipython3",
   "version": "3.8.10"
  }
 },
 "nbformat": 4,
 "nbformat_minor": 5
}
