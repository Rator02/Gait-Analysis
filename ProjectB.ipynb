{
  "nbformat": 4,
  "nbformat_minor": 0,
  "metadata": {
    "colab": {
      "name": "ProjectB.ipynb",
      "provenance": [],
      "collapsed_sections": []
    },
    "kernelspec": {
      "name": "python3",
      "display_name": "Python 3"
    },
    "language_info": {
      "name": "python"
    }
  },
  "cells": [
    {
      "cell_type": "code",
      "metadata": {
        "colab": {
          "base_uri": "https://localhost:8080/"
        },
        "id": "hGbnEX0zG_SN",
        "outputId": "e7ba08bf-6c5f-4785-dcfd-9dc03bfc611b"
      },
      "source": [
        "from google.colab import drive\n",
        "drive.mount('/content/drive')"
      ],
      "execution_count": 1,
      "outputs": [
        {
          "output_type": "stream",
          "name": "stdout",
          "text": [
            "Mounted at /content/drive\n"
          ]
        }
      ]
    },
    {
      "cell_type": "code",
      "execution_count": 2,
      "metadata": {
        "id": "BBmJwAnQ6DBB"
      },
      "outputs": [],
      "source": [
        "# Import Library\n",
        "import glob\n",
        "import re\n",
        "import os\n",
        "from scipy import io, stats\n",
        "\n",
        "import pandas as pd\n",
        "import numpy as np\n",
        "import matplotlib.pyplot as plt\n",
        "\n",
        "import tensorflow as tf\n",
        "from tensorflow import keras\n",
        "from tensorflow.keras.models import Sequential\n",
        "from tensorflow.keras.layers import Dense, Input, Activation, Flatten, Dropout, BatchNormalization\n",
        "from tensorflow.keras.layers import Conv2D, MaxPool2D\n",
        "from tensorflow.keras.optimizers import SGD, Adam\n",
        "\n",
        "\n",
        "from sklearn.model_selection import train_test_split\n",
        "from sklearn.preprocessing import StandardScaler, LabelEncoder"
      ]
    },
    {
      "cell_type": "code",
      "source": [
        "folders = glob.glob('/content/drive/MyDrive/Project_B_Data/EPOT_Data/*')"
      ],
      "metadata": {
        "id": "HD8s6HAM9-nk"
      },
      "execution_count": 3,
      "outputs": []
    },
    {
      "cell_type": "code",
      "source": [
        "len(folders)"
      ],
      "metadata": {
        "colab": {
          "base_uri": "https://localhost:8080/"
        },
        "id": "5CpqojzRmjS2",
        "outputId": "667b2a6f-2549-4159-a8cd-e2594635cd5a"
      },
      "execution_count": 4,
      "outputs": [
        {
          "output_type": "execute_result",
          "data": {
            "text/plain": [
              "244"
            ]
          },
          "metadata": {},
          "execution_count": 4
        }
      ]
    },
    {
      "cell_type": "code",
      "source": [
        "final = np.empty([1,7])\n",
        "\n",
        "for folder in folders:\n",
        "  data = io.loadmat(folder)\n",
        "  #print(data.values())\n",
        "\n",
        "  arr = list(data.values())\n",
        "  #print(arr[-1])\n",
        "\n",
        "  final_data = arr[-1]\n",
        "  final_data = np.asarray(final_data)\n",
        "  #print(final_data)                               # printing the final data\n",
        "  #print(folder)\n",
        "  name = re.split('/',folder)\n",
        "  #print(name)\n",
        "  exp_name = name[-1]\n",
        "  #print(exp_name)\n",
        "\n",
        "  file_list = [exp_name]\n",
        "  for fname in file_list:\n",
        "    remove_extension = os.path.splitext(exp_name)\n",
        "    #print(remove_extension)\n",
        "    naam_file = re.split('_',remove_extension[-2])\n",
        "    #print(naam_file)\n",
        "    x_coor = naam_file[-2]\n",
        "    #print(x_coor)\n",
        "    y_coor = naam_file[-1]\n",
        "    #print(y_coor)\n",
        "\n",
        "    #print('X-Coordinate is: '+x_coor+' Y-Coordinate is: '+y_coor)\n",
        "\n",
        "    x = np.full((len(final_data),1), x_coor)\n",
        "    y = np.full((len(final_data),1), y_coor)\n",
        "\n",
        "\n",
        "    all_data = np.c_[x, y, final_data]\n",
        "    #print(all_data)\n",
        "\n",
        "  final = np.vstack([final, all_data])\n",
        "  \n",
        "\n",
        "print(final)\n",
        "\n"
      ],
      "metadata": {
        "colab": {
          "base_uri": "https://localhost:8080/"
        },
        "id": "SAMLfEuD-zI5",
        "outputId": "acd33e39-7a46-4965-fd02-80d01dca6e98"
      },
      "execution_count": 5,
      "outputs": [
        {
          "output_type": "stream",
          "name": "stdout",
          "text": [
            "[['4.66823449024257e-310' '8.4879831693e-313' '2.355415328475e-312' ...\n",
            "  '2.4190752022e-312' '8.70018274864e-313' '6.087e-320']\n",
            " ['250' '295' '0.0' ... '0.0' '0.0' '0.0']\n",
            " ['250' '295' '1e-08' ... '0.0' '0.0' '0.0']\n",
            " ...\n",
            " ['325' '295' '0.00019997' ... '1.30776' '-0.505441' '-0.98446']\n",
            " ['325' '295' '0.00019998' ... '1.3072' '-0.506401' '-0.984543']\n",
            " ['325' '295' '0.00019999' ... '1.30663' '-0.507363' '-0.984628']]\n"
          ]
        }
      ]
    },
    {
      "cell_type": "code",
      "source": [
        "final.shape"
      ],
      "metadata": {
        "colab": {
          "base_uri": "https://localhost:8080/"
        },
        "id": "c8Qiyjmg2hez",
        "outputId": "4feb0b3f-69ff-47d9-8443-832a9a15e3c6"
      },
      "execution_count": 6,
      "outputs": [
        {
          "output_type": "execute_result",
          "data": {
            "text/plain": [
              "(4880001, 7)"
            ]
          },
          "metadata": {},
          "execution_count": 6
        }
      ]
    },
    {
      "cell_type": "code",
      "source": [
        "final = np.delete(final, (0), axis=0)\n",
        "print(final)"
      ],
      "metadata": {
        "colab": {
          "base_uri": "https://localhost:8080/"
        },
        "id": "caAKFJESznZ7",
        "outputId": "5f84c430-db48-4b9c-ac2b-4a3fcc855c9e"
      },
      "execution_count": 7,
      "outputs": [
        {
          "output_type": "stream",
          "name": "stdout",
          "text": [
            "[['250' '295' '0.0' ... '0.0' '0.0' '0.0']\n",
            " ['250' '295' '1e-08' ... '0.0' '0.0' '0.0']\n",
            " ['250' '295' '2e-08' ... '0.0' '0.0' '0.0']\n",
            " ...\n",
            " ['325' '295' '0.00019997' ... '1.30776' '-0.505441' '-0.98446']\n",
            " ['325' '295' '0.00019998' ... '1.3072' '-0.506401' '-0.984543']\n",
            " ['325' '295' '0.00019999' ... '1.30663' '-0.507363' '-0.984628']]\n"
          ]
        }
      ]
    },
    {
      "cell_type": "code",
      "source": [
        "final.shape"
      ],
      "metadata": {
        "colab": {
          "base_uri": "https://localhost:8080/"
        },
        "id": "5pi_enY2BkQU",
        "outputId": "960349da-f9b1-4a7f-f861-7a9fa23cf8dd"
      },
      "execution_count": 8,
      "outputs": [
        {
          "output_type": "execute_result",
          "data": {
            "text/plain": [
              "(4880000, 7)"
            ]
          },
          "metadata": {},
          "execution_count": 8
        }
      ]
    },
    {
      "cell_type": "code",
      "source": [
        "final.dtype"
      ],
      "metadata": {
        "colab": {
          "base_uri": "https://localhost:8080/"
        },
        "id": "UDYXf0sazfwU",
        "outputId": "f3e059de-9ee9-4c72-c7ac-798daad93077"
      },
      "execution_count": 9,
      "outputs": [
        {
          "output_type": "execute_result",
          "data": {
            "text/plain": [
              "dtype('<U32')"
            ]
          },
          "metadata": {},
          "execution_count": 9
        }
      ]
    },
    {
      "cell_type": "code",
      "source": [
        "final = final.astype(float)"
      ],
      "metadata": {
        "id": "DGQXHbRW0hY1"
      },
      "execution_count": 10,
      "outputs": []
    },
    {
      "cell_type": "code",
      "source": [
        "#Data Standardisation\n",
        "\n",
        "x_data = final[:, 3:8]\n",
        "y_data = final[: , 0:2]"
      ],
      "metadata": {
        "id": "q1xHryoL9VlK"
      },
      "execution_count": 11,
      "outputs": []
    },
    {
      "cell_type": "code",
      "source": [
        "scaler = StandardScaler()\n",
        "\n",
        "X, y = scaler.fit_transform(x_data), y_data\n",
        "X.shape\n"
      ],
      "metadata": {
        "id": "5yZ85sYKAXWD",
        "colab": {
          "base_uri": "https://localhost:8080/"
        },
        "outputId": "8b86019d-b42e-419e-dedb-d4f43312dc2e"
      },
      "execution_count": 12,
      "outputs": [
        {
          "output_type": "execute_result",
          "data": {
            "text/plain": [
              "(4880000, 4)"
            ]
          },
          "metadata": {},
          "execution_count": 12
        }
      ]
    },
    {
      "cell_type": "code",
      "source": [
        "###Frame Preparation\n",
        "\n",
        "Fs = 50\n",
        "\n",
        "frame_size = Fs*4\n",
        "hop_size = Fs*2"
      ],
      "metadata": {
        "id": "Y8Dvnd9DCZL6"
      },
      "execution_count": 13,
      "outputs": []
    },
    {
      "cell_type": "code",
      "source": [
        "def get_frames(data, frame_size, hop_size):\n",
        "\n",
        "    N_FEATURES = 4\n",
        "\n",
        "    frames = []\n",
        "    labels = []\n",
        "    for i in range(0, len(data) - frame_size, hop_size):\n",
        "        x1 = final[:,3][i: i + frame_size]\n",
        "        x2 = final[:,4][i: i + frame_size]\n",
        "        x3 = final[:,5][i: i + frame_size]\n",
        "        x4 = final[:,6][i: i + frame_size]\n",
        "        \n",
        "        # Retrieve the most often used label in this segment\n",
        "        label = stats.mode(final[:,0:2][i: i + frame_size])[0][0]\n",
        "        frames.append([x1, x2, x3, x4])\n",
        "        labels.append(label)\n",
        "\n",
        "    # Bring the segments into a better shape\n",
        "    frames = np.asarray(frames).reshape(-1, frame_size, N_FEATURES)\n",
        "    labels = np.asarray(labels)\n",
        "\n",
        "    return frames, labels"
      ],
      "metadata": {
        "id": "_qyLWDcZCaPZ"
      },
      "execution_count": 14,
      "outputs": []
    },
    {
      "cell_type": "code",
      "source": [
        "X, y = get_frames(X, frame_size, hop_size)\n",
        "X. shape, y.shape"
      ],
      "metadata": {
        "colab": {
          "base_uri": "https://localhost:8080/"
        },
        "id": "F3WHsTGrDR5q",
        "outputId": "b418997a-6a51-4846-b7ff-c3a3eff0d889"
      },
      "execution_count": 15,
      "outputs": [
        {
          "output_type": "execute_result",
          "data": {
            "text/plain": [
              "((48798, 200, 4), (48798, 2))"
            ]
          },
          "metadata": {},
          "execution_count": 15
        }
      ]
    },
    {
      "cell_type": "code",
      "source": [
        "X_train, X_test, y_train, y_test = train_test_split(X, y, test_size=0.2, shuffle=False)\n",
        "print(X_train.shape)\n",
        "print(X_test.shape)\n",
        "print(y_train.shape)\n",
        "print(y_test.shape)\n",
        "X_train[0].shape"
      ],
      "metadata": {
        "id": "vX9MazDQMCAP",
        "colab": {
          "base_uri": "https://localhost:8080/"
        },
        "outputId": "83548023-6b9e-46d5-dbcc-58546b25b086"
      },
      "execution_count": 16,
      "outputs": [
        {
          "output_type": "stream",
          "name": "stdout",
          "text": [
            "(39038, 200, 4)\n",
            "(9760, 200, 4)\n",
            "(39038, 2)\n",
            "(9760, 2)\n"
          ]
        },
        {
          "output_type": "execute_result",
          "data": {
            "text/plain": [
              "(200, 4)"
            ]
          },
          "metadata": {},
          "execution_count": 16
        }
      ]
    },
    {
      "cell_type": "code",
      "source": [
        "#X_train = X_train.reshape(39038, 200, 4, 1)\n",
        "#X_test = X_test.reshape(9760, 200, 4, 1)"
      ],
      "metadata": {
        "id": "6mRGUZ1lcvoF"
      },
      "execution_count": 17,
      "outputs": []
    },
    {
      "cell_type": "code",
      "source": [
        "#X_train[0].shape, X_test[0].shape"
      ],
      "metadata": {
        "id": "ALh6TcCkdXjx"
      },
      "execution_count": 18,
      "outputs": []
    },
    {
      "cell_type": "code",
      "metadata": {
        "id": "l6fDtpExDj43",
        "colab": {
          "base_uri": "https://localhost:8080/"
        },
        "outputId": "c0250dc6-23fc-427f-bc80-2a31d83169c7"
      },
      "source": [
        "from tensorflow.python.keras import layers\n",
        "#### Build model\n",
        "\n",
        "model = keras.Sequential([\n",
        "                          keras.layers.Flatten(input_shape=X_train[0].shape),           ###Input Layer\n",
        "                          keras.layers.Dense(400, activation='relu', kernel_regularizer=keras.regularizers.l1(0.001)),          ##Hidden Layer 1\n",
        "                          keras.layers.Dense(200, activation='relu', kernel_regularizer=keras.regularizers.l1(0.001)),           ###Hidden Layer 2\n",
        "                          keras.layers.Dense(100, activation='relu'),           ##Hidden Layer 3\n",
        "                          keras.layers.Dense(2, activation='softmax')         ##Output Layer\n",
        "])\n",
        "\n",
        "####Model Compile\n",
        "model.compile(optimizer= Adam(learning_rate=0.1), loss='categorical_crossentropy', metrics=['accuracy'])\n",
        "\n",
        "#####Training the model with epochs 10\n",
        "model.fit(X_train, y_train, epochs=10)\n",
        "\n",
        "test_loss, test_acc = model.evaluate(X_test, y_test)\n",
        "\n",
        "print('Tested Acc: ', test_acc)"
      ],
      "execution_count": 21,
      "outputs": [
        {
          "output_type": "stream",
          "name": "stdout",
          "text": [
            "Epoch 1/10\n",
            "1220/1220 [==============================] - 9s 7ms/step - loss: 62809399873241088.0000 - accuracy: 0.5585\n",
            "Epoch 2/10\n",
            "1220/1220 [==============================] - 8s 7ms/step - loss: 1445280134603997184.0000 - accuracy: 0.5585\n",
            "Epoch 3/10\n",
            "1220/1220 [==============================] - 8s 7ms/step - loss: 6404482058713825280.0000 - accuracy: 0.5585\n",
            "Epoch 4/10\n",
            "1220/1220 [==============================] - 8s 7ms/step - loss: 18539333947884568576.0000 - accuracy: 0.5585\n",
            "Epoch 5/10\n",
            "1220/1220 [==============================] - 9s 7ms/step - loss: 40222664220789964800.0000 - accuracy: 0.5585\n",
            "Epoch 6/10\n",
            "1220/1220 [==============================] - 8s 7ms/step - loss: 85064200868006461440.0000 - accuracy: 0.5585\n",
            "Epoch 7/10\n",
            "1220/1220 [==============================] - 8s 7ms/step - loss: 141206795102434885632.0000 - accuracy: 0.5585\n",
            "Epoch 8/10\n",
            "1220/1220 [==============================] - 9s 7ms/step - loss: 670401829511953907712.0000 - accuracy: 0.4630\n",
            "Epoch 9/10\n",
            "1220/1220 [==============================] - 8s 7ms/step - loss: nan - accuracy: 0.4415\n",
            "Epoch 10/10\n",
            "1220/1220 [==============================] - 8s 6ms/step - loss: nan - accuracy: 0.4415\n",
            "305/305 [==============================] - 1s 3ms/step - loss: nan - accuracy: 0.9018\n",
            "Tested Acc:  0.9018442630767822\n"
          ]
        }
      ]
    }
  ]
}