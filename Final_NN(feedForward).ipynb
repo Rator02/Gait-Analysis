{
 "cells": [
  {
   "cell_type": "code",
   "execution_count": 1,
   "id": "a2bd1dc4",
   "metadata": {},
   "outputs": [],
   "source": [
    "import tensorflow as tf\n",
    "from tensorflow import keras\n",
    "from tensorflow.keras import Sequential\n",
    "from tensorflow.keras.layers import Flatten, Dense, Dropout, BatchNormalization\n",
    "from tensorflow.keras.layers import Conv2D, MaxPool2D\n",
    "from tensorflow.keras.optimizers import Adam"
   ]
  },
  {
   "cell_type": "code",
   "execution_count": 2,
   "id": "dee594f7",
   "metadata": {},
   "outputs": [],
   "source": [
    "import pandas as pd\n",
    "import numpy as np\n",
    "import matplotlib.pyplot as plt\n",
    "from sklearn.model_selection import train_test_split\n",
    "from sklearn.preprocessing import StandardScaler, LabelEncoder"
   ]
  },
  {
   "cell_type": "code",
   "execution_count": 3,
   "id": "6aba67f9",
   "metadata": {},
   "outputs": [
    {
     "data": {
      "text/html": [
       "<div>\n",
       "<style scoped>\n",
       "    .dataframe tbody tr th:only-of-type {\n",
       "        vertical-align: middle;\n",
       "    }\n",
       "\n",
       "    .dataframe tbody tr th {\n",
       "        vertical-align: top;\n",
       "    }\n",
       "\n",
       "    .dataframe thead th {\n",
       "        text-align: right;\n",
       "    }\n",
       "</style>\n",
       "<table border=\"1\" class=\"dataframe\">\n",
       "  <thead>\n",
       "    <tr style=\"text-align: right;\">\n",
       "      <th></th>\n",
       "      <th># Label</th>\n",
       "      <th>Subject</th>\n",
       "      <th>Ac_X</th>\n",
       "      <th>Ac_Y</th>\n",
       "      <th>Ac_Z</th>\n",
       "      <th>Gy_X</th>\n",
       "      <th>Gy_Y</th>\n",
       "      <th>Gy_Z</th>\n",
       "    </tr>\n",
       "  </thead>\n",
       "  <tbody>\n",
       "    <tr>\n",
       "      <th>0</th>\n",
       "      <td>1.0</td>\n",
       "      <td>150.0</td>\n",
       "      <td>-0.258182</td>\n",
       "      <td>-10.166052</td>\n",
       "      <td>2.550443</td>\n",
       "      <td>0.093337</td>\n",
       "      <td>-0.392480</td>\n",
       "      <td>0.263686</td>\n",
       "    </tr>\n",
       "    <tr>\n",
       "      <th>1</th>\n",
       "      <td>1.0</td>\n",
       "      <td>150.0</td>\n",
       "      <td>-0.388135</td>\n",
       "      <td>-9.908323</td>\n",
       "      <td>1.963548</td>\n",
       "      <td>0.124267</td>\n",
       "      <td>-0.363047</td>\n",
       "      <td>0.274406</td>\n",
       "    </tr>\n",
       "    <tr>\n",
       "      <th>2</th>\n",
       "      <td>1.0</td>\n",
       "      <td>150.0</td>\n",
       "      <td>-0.524603</td>\n",
       "      <td>-9.649285</td>\n",
       "      <td>1.348127</td>\n",
       "      <td>0.130253</td>\n",
       "      <td>-0.308955</td>\n",
       "      <td>0.277545</td>\n",
       "    </tr>\n",
       "    <tr>\n",
       "      <th>3</th>\n",
       "      <td>1.0</td>\n",
       "      <td>150.0</td>\n",
       "      <td>-0.643571</td>\n",
       "      <td>-9.431819</td>\n",
       "      <td>0.739273</td>\n",
       "      <td>0.109381</td>\n",
       "      <td>-0.234033</td>\n",
       "      <td>0.271940</td>\n",
       "    </tr>\n",
       "    <tr>\n",
       "      <th>4</th>\n",
       "      <td>1.0</td>\n",
       "      <td>150.0</td>\n",
       "      <td>-0.724712</td>\n",
       "      <td>-9.287633</td>\n",
       "      <td>0.173690</td>\n",
       "      <td>0.061910</td>\n",
       "      <td>-0.145865</td>\n",
       "      <td>0.257011</td>\n",
       "    </tr>\n",
       "  </tbody>\n",
       "</table>\n",
       "</div>"
      ],
      "text/plain": [
       "   # Label   Subject      Ac_X       Ac_Y      Ac_Z      Gy_X      Gy_Y  \\\n",
       "0      1.0     150.0 -0.258182 -10.166052  2.550443  0.093337 -0.392480   \n",
       "1      1.0     150.0 -0.388135  -9.908323  1.963548  0.124267 -0.363047   \n",
       "2      1.0     150.0 -0.524603  -9.649285  1.348127  0.130253 -0.308955   \n",
       "3      1.0     150.0 -0.643571  -9.431819  0.739273  0.109381 -0.234033   \n",
       "4      1.0     150.0 -0.724712  -9.287633  0.173690  0.061910 -0.145865   \n",
       "\n",
       "       Gy_Z  \n",
       "0  0.263686  \n",
       "1  0.274406  \n",
       "2  0.277545  \n",
       "3  0.271940  \n",
       "4  0.257011  "
      ]
     },
     "execution_count": 3,
     "metadata": {},
     "output_type": "execute_result"
    }
   ],
   "source": [
    "data = pd.read_csv('final_data.csv')\n",
    "data.head()"
   ]
  },
  {
   "cell_type": "code",
   "execution_count": 4,
   "id": "1b6dacb5",
   "metadata": {},
   "outputs": [],
   "source": [
    "final_data = data.rename(columns = {'# Label':'act',' Subject':'subject',' Ac_X':'ax',' Ac_Y':'ay',' Ac_Z':'az',' Gy_X':'gx',' Gy_Y':'gy',' Gy_Z':'gz'}).copy()"
   ]
  },
  {
   "cell_type": "code",
   "execution_count": 5,
   "id": "e7a49a51",
   "metadata": {},
   "outputs": [
    {
     "data": {
      "text/html": [
       "<div>\n",
       "<style scoped>\n",
       "    .dataframe tbody tr th:only-of-type {\n",
       "        vertical-align: middle;\n",
       "    }\n",
       "\n",
       "    .dataframe tbody tr th {\n",
       "        vertical-align: top;\n",
       "    }\n",
       "\n",
       "    .dataframe thead th {\n",
       "        text-align: right;\n",
       "    }\n",
       "</style>\n",
       "<table border=\"1\" class=\"dataframe\">\n",
       "  <thead>\n",
       "    <tr style=\"text-align: right;\">\n",
       "      <th></th>\n",
       "      <th>act</th>\n",
       "      <th>subject</th>\n",
       "      <th>ax</th>\n",
       "      <th>ay</th>\n",
       "      <th>az</th>\n",
       "      <th>gx</th>\n",
       "      <th>gy</th>\n",
       "      <th>gz</th>\n",
       "    </tr>\n",
       "  </thead>\n",
       "  <tbody>\n",
       "    <tr>\n",
       "      <th>0</th>\n",
       "      <td>1.0</td>\n",
       "      <td>150.0</td>\n",
       "      <td>-0.258182</td>\n",
       "      <td>-10.166052</td>\n",
       "      <td>2.550443</td>\n",
       "      <td>0.093337</td>\n",
       "      <td>-0.392480</td>\n",
       "      <td>0.263686</td>\n",
       "    </tr>\n",
       "    <tr>\n",
       "      <th>1</th>\n",
       "      <td>1.0</td>\n",
       "      <td>150.0</td>\n",
       "      <td>-0.388135</td>\n",
       "      <td>-9.908323</td>\n",
       "      <td>1.963548</td>\n",
       "      <td>0.124267</td>\n",
       "      <td>-0.363047</td>\n",
       "      <td>0.274406</td>\n",
       "    </tr>\n",
       "    <tr>\n",
       "      <th>2</th>\n",
       "      <td>1.0</td>\n",
       "      <td>150.0</td>\n",
       "      <td>-0.524603</td>\n",
       "      <td>-9.649285</td>\n",
       "      <td>1.348127</td>\n",
       "      <td>0.130253</td>\n",
       "      <td>-0.308955</td>\n",
       "      <td>0.277545</td>\n",
       "    </tr>\n",
       "    <tr>\n",
       "      <th>3</th>\n",
       "      <td>1.0</td>\n",
       "      <td>150.0</td>\n",
       "      <td>-0.643571</td>\n",
       "      <td>-9.431819</td>\n",
       "      <td>0.739273</td>\n",
       "      <td>0.109381</td>\n",
       "      <td>-0.234033</td>\n",
       "      <td>0.271940</td>\n",
       "    </tr>\n",
       "    <tr>\n",
       "      <th>4</th>\n",
       "      <td>1.0</td>\n",
       "      <td>150.0</td>\n",
       "      <td>-0.724712</td>\n",
       "      <td>-9.287633</td>\n",
       "      <td>0.173690</td>\n",
       "      <td>0.061910</td>\n",
       "      <td>-0.145865</td>\n",
       "      <td>0.257011</td>\n",
       "    </tr>\n",
       "  </tbody>\n",
       "</table>\n",
       "</div>"
      ],
      "text/plain": [
       "   act  subject        ax         ay        az        gx        gy        gz\n",
       "0  1.0    150.0 -0.258182 -10.166052  2.550443  0.093337 -0.392480  0.263686\n",
       "1  1.0    150.0 -0.388135  -9.908323  1.963548  0.124267 -0.363047  0.274406\n",
       "2  1.0    150.0 -0.524603  -9.649285  1.348127  0.130253 -0.308955  0.277545\n",
       "3  1.0    150.0 -0.643571  -9.431819  0.739273  0.109381 -0.234033  0.271940\n",
       "4  1.0    150.0 -0.724712  -9.287633  0.173690  0.061910 -0.145865  0.257011"
      ]
     },
     "execution_count": 5,
     "metadata": {},
     "output_type": "execute_result"
    }
   ],
   "source": [
    "final_data.head()"
   ]
  },
  {
   "cell_type": "code",
   "execution_count": 6,
   "id": "b30144aa",
   "metadata": {},
   "outputs": [
    {
     "data": {
      "text/html": [
       "<div>\n",
       "<style scoped>\n",
       "    .dataframe tbody tr th:only-of-type {\n",
       "        vertical-align: middle;\n",
       "    }\n",
       "\n",
       "    .dataframe tbody tr th {\n",
       "        vertical-align: top;\n",
       "    }\n",
       "\n",
       "    .dataframe thead th {\n",
       "        text-align: right;\n",
       "    }\n",
       "</style>\n",
       "<table border=\"1\" class=\"dataframe\">\n",
       "  <thead>\n",
       "    <tr style=\"text-align: right;\">\n",
       "      <th></th>\n",
       "      <th>act</th>\n",
       "      <th>subject</th>\n",
       "      <th>ax</th>\n",
       "      <th>ay</th>\n",
       "      <th>az</th>\n",
       "      <th>gx</th>\n",
       "      <th>gy</th>\n",
       "      <th>gz</th>\n",
       "      <th>label</th>\n",
       "    </tr>\n",
       "  </thead>\n",
       "  <tbody>\n",
       "    <tr>\n",
       "      <th>0</th>\n",
       "      <td>1.0</td>\n",
       "      <td>150.0</td>\n",
       "      <td>-0.258182</td>\n",
       "      <td>-10.166052</td>\n",
       "      <td>2.550443</td>\n",
       "      <td>0.093337</td>\n",
       "      <td>-0.392480</td>\n",
       "      <td>0.263686</td>\n",
       "      <td>0</td>\n",
       "    </tr>\n",
       "    <tr>\n",
       "      <th>1</th>\n",
       "      <td>1.0</td>\n",
       "      <td>150.0</td>\n",
       "      <td>-0.388135</td>\n",
       "      <td>-9.908323</td>\n",
       "      <td>1.963548</td>\n",
       "      <td>0.124267</td>\n",
       "      <td>-0.363047</td>\n",
       "      <td>0.274406</td>\n",
       "      <td>0</td>\n",
       "    </tr>\n",
       "    <tr>\n",
       "      <th>2</th>\n",
       "      <td>1.0</td>\n",
       "      <td>150.0</td>\n",
       "      <td>-0.524603</td>\n",
       "      <td>-9.649285</td>\n",
       "      <td>1.348127</td>\n",
       "      <td>0.130253</td>\n",
       "      <td>-0.308955</td>\n",
       "      <td>0.277545</td>\n",
       "      <td>0</td>\n",
       "    </tr>\n",
       "    <tr>\n",
       "      <th>3</th>\n",
       "      <td>1.0</td>\n",
       "      <td>150.0</td>\n",
       "      <td>-0.643571</td>\n",
       "      <td>-9.431819</td>\n",
       "      <td>0.739273</td>\n",
       "      <td>0.109381</td>\n",
       "      <td>-0.234033</td>\n",
       "      <td>0.271940</td>\n",
       "      <td>0</td>\n",
       "    </tr>\n",
       "    <tr>\n",
       "      <th>4</th>\n",
       "      <td>1.0</td>\n",
       "      <td>150.0</td>\n",
       "      <td>-0.724712</td>\n",
       "      <td>-9.287633</td>\n",
       "      <td>0.173690</td>\n",
       "      <td>0.061910</td>\n",
       "      <td>-0.145865</td>\n",
       "      <td>0.257011</td>\n",
       "      <td>0</td>\n",
       "    </tr>\n",
       "  </tbody>\n",
       "</table>\n",
       "</div>"
      ],
      "text/plain": [
       "   act  subject        ax         ay        az        gx        gy        gz  \\\n",
       "0  1.0    150.0 -0.258182 -10.166052  2.550443  0.093337 -0.392480  0.263686   \n",
       "1  1.0    150.0 -0.388135  -9.908323  1.963548  0.124267 -0.363047  0.274406   \n",
       "2  1.0    150.0 -0.524603  -9.649285  1.348127  0.130253 -0.308955  0.277545   \n",
       "3  1.0    150.0 -0.643571  -9.431819  0.739273  0.109381 -0.234033  0.271940   \n",
       "4  1.0    150.0 -0.724712  -9.287633  0.173690  0.061910 -0.145865  0.257011   \n",
       "\n",
       "   label  \n",
       "0      0  \n",
       "1      0  \n",
       "2      0  \n",
       "3      0  \n",
       "4      0  "
      ]
     },
     "execution_count": 6,
     "metadata": {},
     "output_type": "execute_result"
    }
   ],
   "source": [
    "label = LabelEncoder()                       ###labelling the float type label to integers\n",
    "\n",
    "final_data['label'] = label.fit_transform(final_data['act'])\n",
    "final_data.head()"
   ]
  },
  {
   "cell_type": "code",
   "execution_count": 7,
   "id": "b493e16a",
   "metadata": {},
   "outputs": [
    {
     "data": {
      "text/plain": [
       "0    78119\n",
       "2    41001\n",
       "1    38769\n",
       "Name: label, dtype: int64"
      ]
     },
     "execution_count": 7,
     "metadata": {},
     "output_type": "execute_result"
    }
   ],
   "source": [
    "final_data['label'].value_counts()"
   ]
  },
  {
   "cell_type": "code",
   "execution_count": 8,
   "id": "831ba8b3",
   "metadata": {},
   "outputs": [
    {
     "data": {
      "text/plain": [
       "array([1., 2., 3.])"
      ]
     },
     "execution_count": 8,
     "metadata": {},
     "output_type": "execute_result"
    }
   ],
   "source": [
    "label.classes_   # 1.0 == Normal Walking, 2.0 == Upstairs, 3.0 == Downstairs"
   ]
  },
  {
   "cell_type": "code",
   "execution_count": 9,
   "id": "c10ed38a",
   "metadata": {},
   "outputs": [],
   "source": [
    "final_data['ax'] = final_data['ax'].astype(float)         # convert the data to float\n",
    "final_data['ay'] = final_data['ay'].astype(float)\n",
    "final_data['az'] = final_data['az'].astype(float)\n",
    "final_data['gx'] = final_data['gx'].astype(float)\n",
    "final_data['gy'] = final_data['gy'].astype(float)\n",
    "final_data['gz'] = final_data['gz'].astype(float)"
   ]
  },
  {
   "cell_type": "code",
   "execution_count": 10,
   "id": "8c9d8788",
   "metadata": {},
   "outputs": [],
   "source": [
    "normal = final_data[final_data['act']== 1.0].head(38769).copy()                # Balancing the Dataset  \n",
    "downstairs = final_data[final_data['act']== 3.0].head(38769).copy()\n",
    "upstairs = final_data[final_data['act']== 2.0].head(38769).copy()"
   ]
  },
  {
   "cell_type": "code",
   "execution_count": 11,
   "id": "1a7870ea",
   "metadata": {},
   "outputs": [
    {
     "data": {
      "text/plain": [
       "(116307, 9)"
      ]
     },
     "execution_count": 11,
     "metadata": {},
     "output_type": "execute_result"
    }
   ],
   "source": [
    "bal_data = pd.DataFrame()                            \n",
    "bal_data = bal_data.append([normal, upstairs, downstairs])\n",
    "bal_data.shape\n",
    "#bal_data.head(100)"
   ]
  },
  {
   "cell_type": "code",
   "execution_count": 12,
   "id": "77c2982a",
   "metadata": {},
   "outputs": [
    {
     "data": {
      "text/plain": [
       "1.0    38769\n",
       "2.0    38769\n",
       "3.0    38769\n",
       "Name: act, dtype: int64"
      ]
     },
     "execution_count": 12,
     "metadata": {},
     "output_type": "execute_result"
    }
   ],
   "source": [
    "bal_data['act'].value_counts()"
   ]
  },
  {
   "cell_type": "code",
   "execution_count": 13,
   "id": "59aaa135",
   "metadata": {},
   "outputs": [
    {
     "data": {
      "text/html": [
       "<div>\n",
       "<style scoped>\n",
       "    .dataframe tbody tr th:only-of-type {\n",
       "        vertical-align: middle;\n",
       "    }\n",
       "\n",
       "    .dataframe tbody tr th {\n",
       "        vertical-align: top;\n",
       "    }\n",
       "\n",
       "    .dataframe thead th {\n",
       "        text-align: right;\n",
       "    }\n",
       "</style>\n",
       "<table border=\"1\" class=\"dataframe\">\n",
       "  <thead>\n",
       "    <tr style=\"text-align: right;\">\n",
       "      <th></th>\n",
       "      <th>ax</th>\n",
       "      <th>ay</th>\n",
       "      <th>az</th>\n",
       "      <th>gx</th>\n",
       "      <th>gy</th>\n",
       "      <th>gz</th>\n",
       "      <th>label</th>\n",
       "    </tr>\n",
       "  </thead>\n",
       "  <tbody>\n",
       "    <tr>\n",
       "      <th>0</th>\n",
       "      <td>-0.258182</td>\n",
       "      <td>-10.166052</td>\n",
       "      <td>2.550443</td>\n",
       "      <td>0.093337</td>\n",
       "      <td>-0.392480</td>\n",
       "      <td>0.263686</td>\n",
       "      <td>0</td>\n",
       "    </tr>\n",
       "    <tr>\n",
       "      <th>1</th>\n",
       "      <td>-0.388135</td>\n",
       "      <td>-9.908323</td>\n",
       "      <td>1.963548</td>\n",
       "      <td>0.124267</td>\n",
       "      <td>-0.363047</td>\n",
       "      <td>0.274406</td>\n",
       "      <td>0</td>\n",
       "    </tr>\n",
       "    <tr>\n",
       "      <th>2</th>\n",
       "      <td>-0.524603</td>\n",
       "      <td>-9.649285</td>\n",
       "      <td>1.348127</td>\n",
       "      <td>0.130253</td>\n",
       "      <td>-0.308955</td>\n",
       "      <td>0.277545</td>\n",
       "      <td>0</td>\n",
       "    </tr>\n",
       "    <tr>\n",
       "      <th>3</th>\n",
       "      <td>-0.643571</td>\n",
       "      <td>-9.431819</td>\n",
       "      <td>0.739273</td>\n",
       "      <td>0.109381</td>\n",
       "      <td>-0.234033</td>\n",
       "      <td>0.271940</td>\n",
       "      <td>0</td>\n",
       "    </tr>\n",
       "    <tr>\n",
       "      <th>4</th>\n",
       "      <td>-0.724712</td>\n",
       "      <td>-9.287633</td>\n",
       "      <td>0.173690</td>\n",
       "      <td>0.061910</td>\n",
       "      <td>-0.145865</td>\n",
       "      <td>0.257011</td>\n",
       "      <td>0</td>\n",
       "    </tr>\n",
       "  </tbody>\n",
       "</table>\n",
       "</div>"
      ],
      "text/plain": [
       "         ax         ay        az        gx        gy        gz  label\n",
       "0 -0.258182 -10.166052  2.550443  0.093337 -0.392480  0.263686      0\n",
       "1 -0.388135  -9.908323  1.963548  0.124267 -0.363047  0.274406      0\n",
       "2 -0.524603  -9.649285  1.348127  0.130253 -0.308955  0.277545      0\n",
       "3 -0.643571  -9.431819  0.739273  0.109381 -0.234033  0.271940      0\n",
       "4 -0.724712  -9.287633  0.173690  0.061910 -0.145865  0.257011      0"
      ]
     },
     "execution_count": 13,
     "metadata": {},
     "output_type": "execute_result"
    }
   ],
   "source": [
    "balanced_data = bal_data.drop(['act','subject'],axis = 1).copy()   # dropping the unwanted act and subject column\n",
    "balanced_data.head()"
   ]
  },
  {
   "cell_type": "code",
   "execution_count": 14,
   "id": "483df0c0",
   "metadata": {},
   "outputs": [],
   "source": [
    "x = balanced_data[['ax', 'ay', 'az', 'gx', 'gy', 'gz']]       ### Data Standarisation\n",
    "y = balanced_data['label']"
   ]
  },
  {
   "cell_type": "code",
   "execution_count": 15,
   "id": "b4be3e86",
   "metadata": {},
   "outputs": [
    {
     "data": {
      "text/html": [
       "<div>\n",
       "<style scoped>\n",
       "    .dataframe tbody tr th:only-of-type {\n",
       "        vertical-align: middle;\n",
       "    }\n",
       "\n",
       "    .dataframe tbody tr th {\n",
       "        vertical-align: top;\n",
       "    }\n",
       "\n",
       "    .dataframe thead th {\n",
       "        text-align: right;\n",
       "    }\n",
       "</style>\n",
       "<table border=\"1\" class=\"dataframe\">\n",
       "  <thead>\n",
       "    <tr style=\"text-align: right;\">\n",
       "      <th></th>\n",
       "      <th>ax</th>\n",
       "      <th>ay</th>\n",
       "      <th>az</th>\n",
       "      <th>gx</th>\n",
       "      <th>gy</th>\n",
       "      <th>gz</th>\n",
       "      <th>label</th>\n",
       "    </tr>\n",
       "  </thead>\n",
       "  <tbody>\n",
       "    <tr>\n",
       "      <th>0</th>\n",
       "      <td>-0.299364</td>\n",
       "      <td>-0.286948</td>\n",
       "      <td>0.838830</td>\n",
       "      <td>0.083177</td>\n",
       "      <td>-0.473552</td>\n",
       "      <td>0.390582</td>\n",
       "      <td>0</td>\n",
       "    </tr>\n",
       "    <tr>\n",
       "      <th>1</th>\n",
       "      <td>-0.351172</td>\n",
       "      <td>-0.202071</td>\n",
       "      <td>0.619887</td>\n",
       "      <td>0.110834</td>\n",
       "      <td>-0.439610</td>\n",
       "      <td>0.406301</td>\n",
       "      <td>0</td>\n",
       "    </tr>\n",
       "    <tr>\n",
       "      <th>2</th>\n",
       "      <td>-0.405577</td>\n",
       "      <td>-0.116763</td>\n",
       "      <td>0.390302</td>\n",
       "      <td>0.116186</td>\n",
       "      <td>-0.377233</td>\n",
       "      <td>0.410904</td>\n",
       "      <td>0</td>\n",
       "    </tr>\n",
       "    <tr>\n",
       "      <th>3</th>\n",
       "      <td>-0.453006</td>\n",
       "      <td>-0.045146</td>\n",
       "      <td>0.163167</td>\n",
       "      <td>0.097523</td>\n",
       "      <td>-0.290835</td>\n",
       "      <td>0.402686</td>\n",
       "      <td>0</td>\n",
       "    </tr>\n",
       "    <tr>\n",
       "      <th>4</th>\n",
       "      <td>-0.485354</td>\n",
       "      <td>0.002338</td>\n",
       "      <td>-0.047826</td>\n",
       "      <td>0.055077</td>\n",
       "      <td>-0.189162</td>\n",
       "      <td>0.380794</td>\n",
       "      <td>0</td>\n",
       "    </tr>\n",
       "    <tr>\n",
       "      <th>...</th>\n",
       "      <td>...</td>\n",
       "      <td>...</td>\n",
       "      <td>...</td>\n",
       "      <td>...</td>\n",
       "      <td>...</td>\n",
       "      <td>...</td>\n",
       "      <td>...</td>\n",
       "    </tr>\n",
       "    <tr>\n",
       "      <th>116302</th>\n",
       "      <td>1.289980</td>\n",
       "      <td>0.266349</td>\n",
       "      <td>-1.284699</td>\n",
       "      <td>0.407923</td>\n",
       "      <td>0.672592</td>\n",
       "      <td>0.227501</td>\n",
       "      <td>2</td>\n",
       "    </tr>\n",
       "    <tr>\n",
       "      <th>116303</th>\n",
       "      <td>1.369501</td>\n",
       "      <td>-0.065428</td>\n",
       "      <td>-1.271893</td>\n",
       "      <td>0.273131</td>\n",
       "      <td>0.627867</td>\n",
       "      <td>-0.076980</td>\n",
       "      <td>2</td>\n",
       "    </tr>\n",
       "    <tr>\n",
       "      <th>116304</th>\n",
       "      <td>1.364718</td>\n",
       "      <td>-0.392357</td>\n",
       "      <td>-1.208005</td>\n",
       "      <td>0.151369</td>\n",
       "      <td>0.526308</td>\n",
       "      <td>-0.333906</td>\n",
       "      <td>2</td>\n",
       "    </tr>\n",
       "    <tr>\n",
       "      <th>116305</th>\n",
       "      <td>1.291364</td>\n",
       "      <td>-0.705695</td>\n",
       "      <td>-1.098210</td>\n",
       "      <td>0.048201</td>\n",
       "      <td>0.379669</td>\n",
       "      <td>-0.527224</td>\n",
       "      <td>2</td>\n",
       "    </tr>\n",
       "    <tr>\n",
       "      <th>116306</th>\n",
       "      <td>1.173306</td>\n",
       "      <td>-0.993463</td>\n",
       "      <td>-0.951179</td>\n",
       "      <td>-0.031676</td>\n",
       "      <td>0.206575</td>\n",
       "      <td>-0.647197</td>\n",
       "      <td>2</td>\n",
       "    </tr>\n",
       "  </tbody>\n",
       "</table>\n",
       "<p>116307 rows × 7 columns</p>\n",
       "</div>"
      ],
      "text/plain": [
       "              ax        ay        az        gx        gy        gz  label\n",
       "0      -0.299364 -0.286948  0.838830  0.083177 -0.473552  0.390582      0\n",
       "1      -0.351172 -0.202071  0.619887  0.110834 -0.439610  0.406301      0\n",
       "2      -0.405577 -0.116763  0.390302  0.116186 -0.377233  0.410904      0\n",
       "3      -0.453006 -0.045146  0.163167  0.097523 -0.290835  0.402686      0\n",
       "4      -0.485354  0.002338 -0.047826  0.055077 -0.189162  0.380794      0\n",
       "...          ...       ...       ...       ...       ...       ...    ...\n",
       "116302  1.289980  0.266349 -1.284699  0.407923  0.672592  0.227501      2\n",
       "116303  1.369501 -0.065428 -1.271893  0.273131  0.627867 -0.076980      2\n",
       "116304  1.364718 -0.392357 -1.208005  0.151369  0.526308 -0.333906      2\n",
       "116305  1.291364 -0.705695 -1.098210  0.048201  0.379669 -0.527224      2\n",
       "116306  1.173306 -0.993463 -0.951179 -0.031676  0.206575 -0.647197      2\n",
       "\n",
       "[116307 rows x 7 columns]"
      ]
     },
     "execution_count": 15,
     "metadata": {},
     "output_type": "execute_result"
    }
   ],
   "source": [
    "scaler = StandardScaler()\n",
    "X = scaler.fit_transform(x)\n",
    "\n",
    "scaled_X = pd.DataFrame(data = X, columns=['ax', 'ay', 'az', 'gx', 'gy', 'gz'])\n",
    "scaled_X['label'] = y.values\n",
    "\n",
    "scaled_X"
   ]
  },
  {
   "cell_type": "code",
   "execution_count": 16,
   "id": "4472b8fb",
   "metadata": {},
   "outputs": [],
   "source": [
    "import scipy.stats as stats"
   ]
  },
  {
   "cell_type": "code",
   "execution_count": 17,
   "id": "7a75de92",
   "metadata": {},
   "outputs": [],
   "source": [
    "# Frame Preparation\n",
    "Fs = 50\n",
    "frame_size = Fs*4\n",
    "hop_size = Fs*2"
   ]
  },
  {
   "cell_type": "code",
   "execution_count": 18,
   "id": "3225733c",
   "metadata": {},
   "outputs": [],
   "source": [
    "def get_frames(data, frame_size, hop_size):\n",
    "\n",
    "    N_FEATURES = 6\n",
    "\n",
    "    frames = []\n",
    "    labels = []\n",
    "    for i in range(0, len(data) - frame_size, hop_size):\n",
    "        x1 = data['ax'].values[i: i + frame_size]\n",
    "        y1 = data['ay'].values[i: i + frame_size]\n",
    "        z1 = data['az'].values[i: i + frame_size]\n",
    "        x2 = data['gx'].values[i: i + frame_size]\n",
    "        y2 = data['gy'].values[i: i + frame_size]\n",
    "        z2 = data['gz'].values[i: i + frame_size]\n",
    "        \n",
    "        # Retrieve the most often used label in this segment\n",
    "        label = stats.mode(data['label'][i: i + frame_size])[0][0]\n",
    "        frames.append([x1, y1, z1, x2, y2, z2])\n",
    "        labels.append(label)\n",
    "\n",
    "    # Bring the segments into a better shape\n",
    "    frames = np.asarray(frames).reshape(-1, frame_size, N_FEATURES)\n",
    "    labels = np.asarray(labels)\n",
    "\n",
    "    return frames, labels"
   ]
  },
  {
   "cell_type": "code",
   "execution_count": 19,
   "id": "569bbbcb",
   "metadata": {},
   "outputs": [
    {
     "data": {
      "text/plain": [
       "((1162, 200, 6), (1162,))"
      ]
     },
     "execution_count": 19,
     "metadata": {},
     "output_type": "execute_result"
    }
   ],
   "source": [
    "X, y = get_frames(scaled_X, frame_size, hop_size)\n",
    "\n",
    "X.shape, y.shape"
   ]
  },
  {
   "cell_type": "code",
   "execution_count": 24,
   "id": "37dcda65",
   "metadata": {},
   "outputs": [
    {
     "data": {
      "text/plain": [
       "((929, 200, 6), (233, 200, 6))"
      ]
     },
     "execution_count": 24,
     "metadata": {},
     "output_type": "execute_result"
    }
   ],
   "source": [
    "X_train, X_test, y_train, y_test = train_test_split(X, y, test_size = 0.2, random_state=0, stratify = y)\n",
    "X_train.shape, X_test.shape"
   ]
  },
  {
   "cell_type": "code",
   "execution_count": 25,
   "id": "f4d9e22f",
   "metadata": {},
   "outputs": [
    {
     "data": {
      "text/plain": [
       "((200, 6), (200, 6))"
      ]
     },
     "execution_count": 25,
     "metadata": {},
     "output_type": "execute_result"
    }
   ],
   "source": [
    "X_train[0].shape, X_test[0].shape"
   ]
  },
  {
   "cell_type": "code",
   "execution_count": 31,
   "id": "9a7dfa75",
   "metadata": {},
   "outputs": [],
   "source": [
    "model = keras.models.Sequential()\n",
    "model.add(keras.layers.Flatten(input_shape=X_train[0].shape))\n",
    "model.add(keras.layers.Dense(300, activation=\"relu\"))\n",
    "model.add(keras.layers.Dense(100, activation=\"relu\"))\n",
    "model.add(keras.layers.Dense(3, activation=\"softmax\"))"
   ]
  },
  {
   "cell_type": "code",
   "execution_count": 32,
   "id": "29c3dbf6",
   "metadata": {},
   "outputs": [
    {
     "name": "stdout",
     "output_type": "stream",
     "text": [
      "Model: \"sequential_2\"\n",
      "_________________________________________________________________\n",
      " Layer (type)                Output Shape              Param #   \n",
      "=================================================================\n",
      " flatten_1 (Flatten)         (None, 1200)              0         \n",
      "                                                                 \n",
      " dense_3 (Dense)             (None, 300)               360300    \n",
      "                                                                 \n",
      " dense_4 (Dense)             (None, 100)               30100     \n",
      "                                                                 \n",
      " dense_5 (Dense)             (None, 3)                 303       \n",
      "                                                                 \n",
      "=================================================================\n",
      "Total params: 390,703\n",
      "Trainable params: 390,703\n",
      "Non-trainable params: 0\n",
      "_________________________________________________________________\n"
     ]
    }
   ],
   "source": [
    "model.summary()"
   ]
  },
  {
   "cell_type": "code",
   "execution_count": 33,
   "id": "9774d362",
   "metadata": {},
   "outputs": [],
   "source": [
    "model.compile(loss=\"sparse_categorical_crossentropy\", optimizer=\"sgd\", metrics=[\"accuracy\"])"
   ]
  },
  {
   "cell_type": "code",
   "execution_count": 34,
   "id": "7460179b",
   "metadata": {},
   "outputs": [
    {
     "name": "stdout",
     "output_type": "stream",
     "text": [
      "Epoch 1/30\n",
      "30/30 [==============================] - 0s 7ms/step - loss: 1.1573 - accuracy: 0.3735 - val_loss: 1.1203 - val_accuracy: 0.4249\n",
      "Epoch 2/30\n",
      "30/30 [==============================] - 0s 4ms/step - loss: 0.9057 - accuracy: 0.5759 - val_loss: 1.0153 - val_accuracy: 0.5365\n",
      "Epoch 3/30\n",
      "30/30 [==============================] - 0s 4ms/step - loss: 0.7603 - accuracy: 0.7115 - val_loss: 0.9788 - val_accuracy: 0.5408\n",
      "Epoch 4/30\n",
      "30/30 [==============================] - 0s 4ms/step - loss: 0.6418 - accuracy: 0.8073 - val_loss: 0.9627 - val_accuracy: 0.5837\n",
      "Epoch 5/30\n",
      "30/30 [==============================] - 0s 4ms/step - loss: 0.5631 - accuracy: 0.8461 - val_loss: 0.9099 - val_accuracy: 0.6137\n",
      "Epoch 6/30\n",
      "30/30 [==============================] - 0s 4ms/step - loss: 0.4909 - accuracy: 0.8773 - val_loss: 0.9702 - val_accuracy: 0.6009\n",
      "Epoch 7/30\n",
      "30/30 [==============================] - 0s 4ms/step - loss: 0.4463 - accuracy: 0.8999 - val_loss: 0.8997 - val_accuracy: 0.6309\n",
      "Epoch 8/30\n",
      "30/30 [==============================] - 0s 4ms/step - loss: 0.3809 - accuracy: 0.9203 - val_loss: 0.8656 - val_accuracy: 0.6738\n",
      "Epoch 9/30\n",
      "30/30 [==============================] - 0s 4ms/step - loss: 0.3375 - accuracy: 0.9376 - val_loss: 0.8493 - val_accuracy: 0.6652\n",
      "Epoch 10/30\n",
      "30/30 [==============================] - 0s 4ms/step - loss: 0.3001 - accuracy: 0.9537 - val_loss: 0.8971 - val_accuracy: 0.6395\n",
      "Epoch 11/30\n",
      "30/30 [==============================] - 0s 4ms/step - loss: 0.2781 - accuracy: 0.9548 - val_loss: 0.8351 - val_accuracy: 0.6781\n",
      "Epoch 12/30\n",
      "30/30 [==============================] - 0s 4ms/step - loss: 0.2499 - accuracy: 0.9656 - val_loss: 0.8102 - val_accuracy: 0.6738\n",
      "Epoch 13/30\n",
      "30/30 [==============================] - 0s 4ms/step - loss: 0.2214 - accuracy: 0.9699 - val_loss: 0.8124 - val_accuracy: 0.6738\n",
      "Epoch 14/30\n",
      "30/30 [==============================] - 0s 4ms/step - loss: 0.2021 - accuracy: 0.9774 - val_loss: 0.8330 - val_accuracy: 0.6695\n",
      "Epoch 15/30\n",
      "30/30 [==============================] - 0s 4ms/step - loss: 0.1834 - accuracy: 0.9817 - val_loss: 0.8079 - val_accuracy: 0.6910\n",
      "Epoch 16/30\n",
      "30/30 [==============================] - 0s 4ms/step - loss: 0.1672 - accuracy: 0.9828 - val_loss: 0.8918 - val_accuracy: 0.6438\n",
      "Epoch 17/30\n",
      "30/30 [==============================] - 0s 4ms/step - loss: 0.1667 - accuracy: 0.9795 - val_loss: 0.8039 - val_accuracy: 0.6996\n",
      "Epoch 18/30\n",
      "30/30 [==============================] - 0s 4ms/step - loss: 0.1454 - accuracy: 0.9849 - val_loss: 0.8098 - val_accuracy: 0.6910\n",
      "Epoch 19/30\n",
      "30/30 [==============================] - 0s 4ms/step - loss: 0.1327 - accuracy: 0.9860 - val_loss: 0.8089 - val_accuracy: 0.7039\n",
      "Epoch 20/30\n",
      "30/30 [==============================] - 0s 4ms/step - loss: 0.1226 - accuracy: 0.9860 - val_loss: 0.8035 - val_accuracy: 0.6996\n",
      "Epoch 21/30\n",
      "30/30 [==============================] - 0s 4ms/step - loss: 0.1139 - accuracy: 0.9871 - val_loss: 0.8105 - val_accuracy: 0.6996\n",
      "Epoch 22/30\n",
      "30/30 [==============================] - 0s 4ms/step - loss: 0.1069 - accuracy: 0.9871 - val_loss: 0.8106 - val_accuracy: 0.6953\n",
      "Epoch 23/30\n",
      "30/30 [==============================] - 0s 4ms/step - loss: 0.0997 - accuracy: 0.9882 - val_loss: 0.8128 - val_accuracy: 0.6996\n",
      "Epoch 24/30\n",
      "30/30 [==============================] - 0s 4ms/step - loss: 0.0970 - accuracy: 0.9892 - val_loss: 0.8098 - val_accuracy: 0.7124\n",
      "Epoch 25/30\n",
      "30/30 [==============================] - 0s 4ms/step - loss: 0.0896 - accuracy: 0.9892 - val_loss: 0.8045 - val_accuracy: 0.6953\n",
      "Epoch 26/30\n",
      "30/30 [==============================] - 0s 4ms/step - loss: 0.0842 - accuracy: 0.9892 - val_loss: 0.8165 - val_accuracy: 0.6910\n",
      "Epoch 27/30\n",
      "30/30 [==============================] - 0s 4ms/step - loss: 0.0793 - accuracy: 0.9892 - val_loss: 0.8206 - val_accuracy: 0.6910\n",
      "Epoch 28/30\n",
      "30/30 [==============================] - 0s 4ms/step - loss: 0.0758 - accuracy: 0.9892 - val_loss: 0.8189 - val_accuracy: 0.6996\n",
      "Epoch 29/30\n",
      "30/30 [==============================] - 0s 4ms/step - loss: 0.0723 - accuracy: 0.9892 - val_loss: 0.8228 - val_accuracy: 0.6910\n",
      "Epoch 30/30\n",
      "30/30 [==============================] - 0s 4ms/step - loss: 0.0688 - accuracy: 0.9892 - val_loss: 0.8339 - val_accuracy: 0.6867\n"
     ]
    }
   ],
   "source": [
    "history = model.fit(X_train, y_train, epochs=30, validation_data=(X_test, y_test))"
   ]
  },
  {
   "cell_type": "code",
   "execution_count": 35,
   "id": "5147e3cb",
   "metadata": {},
   "outputs": [
    {
     "data": {
      "image/png": "[encoded data removed]",
      "text/plain": [
       "<Figure size 576x360 with 1 Axes>"
      ]
     },
     "metadata": {
      "needs_background": "light"
     },
     "output_type": "display_data"
    }
   ],
   "source": [
    "pd.DataFrame(history.history).plot(figsize=(8, 5))\n",
    "plt.grid(True)\n",
    "plt.gca().set_ylim(0, 1) # set the vertical range to [0-1]\n",
    "plt.show()"
   ]
  },
  {
   "cell_type": "markdown",
   "id": "1b691c18",
   "metadata": {},
   "source": [
    "### Validation and Training lines are far apart suggesting overfitting, need for a dropout layer or regularization"
   ]
  },
  {
   "cell_type": "code",
   "execution_count": null,
   "id": "32887050",
   "metadata": {},
   "outputs": [],
   "source": []
  },
  {
   "cell_type": "markdown",
   "id": "488c1242",
   "metadata": {},
   "source": [
    "# Predicting the values"
   ]
  },
  {
   "cell_type": "code",
   "execution_count": null,
   "id": "6b7739ec",
   "metadata": {},
   "outputs": [],
   "source": []
  },
  {
   "cell_type": "code",
   "execution_count": 36,
   "id": "7c83d1f4",
   "metadata": {},
   "outputs": [
    {
     "data": {
      "text/plain": [
       "array([[0.  , 0.11, 0.89],\n",
       "       [0.47, 0.06, 0.47],\n",
       "       [0.11, 0.89, 0.  ]], dtype=float32)"
      ]
     },
     "execution_count": 36,
     "metadata": {},
     "output_type": "execute_result"
    }
   ],
   "source": [
    "X_new = X_test[:3]\n",
    ">>> y_proba = model.predict(X_new)\n",
    ">>> y_proba.round(2)"
   ]
  },
  {
   "cell_type": "code",
   "execution_count": 37,
   "id": "f1f74fd4",
   "metadata": {},
   "outputs": [
    {
     "data": {
      "text/plain": [
       "array([2, 2, 1], dtype=int64)"
      ]
     },
     "execution_count": 37,
     "metadata": {},
     "output_type": "execute_result"
    }
   ],
   "source": [
    "y_new = y_test[:3]\n",
    "y_new"
   ]
  },
  {
   "cell_type": "code",
   "execution_count": null,
   "id": "a21111b8",
   "metadata": {},
   "outputs": [],
   "source": []
  }
 ],
 "metadata": {
  "kernelspec": {
   "display_name": "Python 3 (ipykernel)",
   "language": "python",
   "name": "python3"
  },
  "language_info": {
   "codemirror_mode": {
    "name": "ipython",
    "version": 3
   },
   "file_extension": ".py",
   "mimetype": "text/x-python",
   "name": "python",
   "nbconvert_exporter": "python",
   "pygments_lexer": "ipython3",
   "version": "3.8.10"
  }
 },
 "nbformat": 4,
 "nbformat_minor": 5
}
