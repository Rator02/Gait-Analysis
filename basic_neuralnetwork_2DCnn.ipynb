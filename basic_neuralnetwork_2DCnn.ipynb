{
 "cells": [
  {
   "cell_type": "code",
   "execution_count": 65,
   "metadata": {
    "colab": {
     "base_uri": "https://localhost:8080/"
    },
    "id": "hGbnEX0zG_SN",
    "outputId": "abfe919b-6da1-44d1-ce80-b8e36309eb09"
   },
   "outputs": [
    {
     "name": "stdout",
     "output_type": "stream",
     "text": [
      "Drive already mounted at /content/drive; to attempt to forcibly remount, call drive.mount(\"/content/drive\", force_remount=True).\n"
     ]
    }
   ],
   "source": [
    "from google.colab import drive\n",
    "drive.mount('/content/drive')"
   ]
  },
  {
   "cell_type": "markdown",
   "metadata": {
    "id": "T99OCiRg_z5K"
   },
   "source": [
    "Import Libraries"
   ]
  },
  {
   "cell_type": "code",
   "execution_count": 105,
   "metadata": {
    "colab": {
     "base_uri": "https://localhost:8080/"
    },
    "id": "OMnOauWh_2Gg",
    "outputId": "04d7925c-6656-4f82-92be-395d580a8d61"
   },
   "outputs": [],
   "source": [
    "import tensorflow as tf\n",
    "from tensorflow import keras\n",
    "from tensorflow.keras import Sequential\n",
    "from tensorflow.keras.layers import Flatten, Dense, Dropout, BatchNormalization\n",
    "from tensorflow.keras.layers import Conv2D, MaxPool2D\n",
    "from tensorflow.keras.optimizers import Adam"
   ]
  },
  {
   "cell_type": "code",
   "execution_count": 106,
   "metadata": {
    "colab": {
     "base_uri": "https://localhost:8080/"
    },
    "id": "km-w7S1gHYM4",
    "outputId": "e7f9cb7e-454f-4303-8545-baed1e61b337"
   },
   "outputs": [],
   "source": [
    "import pandas as pd\n",
    "import numpy as np\n",
    "import matplotlib.pyplot as plt\n",
    "from sklearn.model_selection import train_test_split\n",
    "from sklearn.preprocessing import StandardScaler, LabelEncoder"
   ]
  },
  {
   "cell_type": "markdown",
   "metadata": {
    "id": "oxs-wRs5MgKl"
   },
   "source": [
    "Loading the Dataset"
   ]
  },
  {
   "cell_type": "code",
   "execution_count": 6,
   "metadata": {
    "colab": {
     "base_uri": "https://localhost:8080/",
     "height": 206
    },
    "id": "gPitGtw3uyth",
    "outputId": "ccab6db8-4b4b-410b-902b-7dd9d175e327"
   },
   "outputs": [
    {
     "data": {
      "text/html": [
       "<div>\n",
       "<style scoped>\n",
       "    .dataframe tbody tr th:only-of-type {\n",
       "        vertical-align: middle;\n",
       "    }\n",
       "\n",
       "    .dataframe tbody tr th {\n",
       "        vertical-align: top;\n",
       "    }\n",
       "\n",
       "    .dataframe thead th {\n",
       "        text-align: right;\n",
       "    }\n",
       "</style>\n",
       "<table border=\"1\" class=\"dataframe\">\n",
       "  <thead>\n",
       "    <tr style=\"text-align: right;\">\n",
       "      <th></th>\n",
       "      <th>activity</th>\n",
       "      <th>ax</th>\n",
       "      <th>ay</th>\n",
       "      <th>az</th>\n",
       "      <th>gx</th>\n",
       "      <th>gy</th>\n",
       "      <th>gz</th>\n",
       "    </tr>\n",
       "  </thead>\n",
       "  <tbody>\n",
       "    <tr>\n",
       "      <th>0</th>\n",
       "      <td>normal</td>\n",
       "      <td>-2.07</td>\n",
       "      <td>4.00</td>\n",
       "      <td>8.22</td>\n",
       "      <td>-0.540</td>\n",
       "      <td>-1.06</td>\n",
       "      <td>0.907</td>\n",
       "    </tr>\n",
       "    <tr>\n",
       "      <th>1</th>\n",
       "      <td>normal</td>\n",
       "      <td>-2.13</td>\n",
       "      <td>4.03</td>\n",
       "      <td>8.20</td>\n",
       "      <td>-0.515</td>\n",
       "      <td>-1.08</td>\n",
       "      <td>0.910</td>\n",
       "    </tr>\n",
       "    <tr>\n",
       "      <th>2</th>\n",
       "      <td>normal</td>\n",
       "      <td>-2.20</td>\n",
       "      <td>4.10</td>\n",
       "      <td>8.22</td>\n",
       "      <td>-0.491</td>\n",
       "      <td>-1.10</td>\n",
       "      <td>0.913</td>\n",
       "    </tr>\n",
       "    <tr>\n",
       "      <th>3</th>\n",
       "      <td>normal</td>\n",
       "      <td>-2.28</td>\n",
       "      <td>4.14</td>\n",
       "      <td>8.23</td>\n",
       "      <td>-0.459</td>\n",
       "      <td>-1.12</td>\n",
       "      <td>0.917</td>\n",
       "    </tr>\n",
       "    <tr>\n",
       "      <th>4</th>\n",
       "      <td>normal</td>\n",
       "      <td>-2.36</td>\n",
       "      <td>4.22</td>\n",
       "      <td>8.24</td>\n",
       "      <td>-0.431</td>\n",
       "      <td>-1.13</td>\n",
       "      <td>0.919</td>\n",
       "    </tr>\n",
       "  </tbody>\n",
       "</table>\n",
       "</div>"
      ],
      "text/plain": [
       "  activity    ax    ay    az     gx    gy     gz\n",
       "0   normal -2.07  4.00  8.22 -0.540 -1.06  0.907\n",
       "1   normal -2.13  4.03  8.20 -0.515 -1.08  0.910\n",
       "2   normal -2.20  4.10  8.22 -0.491 -1.10  0.913\n",
       "3   normal -2.28  4.14  8.23 -0.459 -1.12  0.917\n",
       "4   normal -2.36  4.22  8.24 -0.431 -1.13  0.919"
      ]
     },
     "execution_count": 6,
     "metadata": {},
     "output_type": "execute_result"
    }
   ],
   "source": [
    "####import data\n",
    "\n",
    "data = pd.read_csv('test_file.csv')\n",
    "data.head()  ###activity, ax, ay, az, gx, gy, gz"
   ]
  },
  {
   "cell_type": "code",
   "execution_count": 69,
   "metadata": {
    "colab": {
     "base_uri": "https://localhost:8080/"
    },
    "id": "g9cEw-9cvyEm",
    "outputId": "fb4bbc7a-4a35-4495-8ca4-5a9cba8d5ca3"
   },
   "outputs": [
    {
     "data": {
      "text/plain": [
       "(26273, 7)"
      ]
     },
     "execution_count": 69,
     "metadata": {},
     "output_type": "execute_result"
    }
   ],
   "source": [
    "# data.shape        for checking purpose... it is alreadt labelled"
   ]
  },
  {
   "cell_type": "code",
   "execution_count": 12,
   "metadata": {},
   "outputs": [
    {
     "data": {
      "text/plain": [
       "0          normal\n",
       "1          normal\n",
       "2          normal\n",
       "3          normal\n",
       "4          normal\n",
       "           ...   \n",
       "26268    upstairs\n",
       "26269    upstairs\n",
       "26270    upstairs\n",
       "26271    upstairs\n",
       "26272         NaN\n",
       "Name: activity, Length: 26273, dtype: object"
      ]
     },
     "execution_count": 12,
     "metadata": {},
     "output_type": "execute_result"
    }
   ],
   "source": [
    "data['activity']"
   ]
  },
  {
   "cell_type": "code",
   "execution_count": 20,
   "metadata": {},
   "outputs": [
    {
     "data": {
      "text/html": [
       "<div>\n",
       "<style scoped>\n",
       "    .dataframe tbody tr th:only-of-type {\n",
       "        vertical-align: middle;\n",
       "    }\n",
       "\n",
       "    .dataframe tbody tr th {\n",
       "        vertical-align: top;\n",
       "    }\n",
       "\n",
       "    .dataframe thead th {\n",
       "        text-align: right;\n",
       "    }\n",
       "</style>\n",
       "<table border=\"1\" class=\"dataframe\">\n",
       "  <thead>\n",
       "    <tr style=\"text-align: right;\">\n",
       "      <th></th>\n",
       "      <th>activity</th>\n",
       "      <th>ax</th>\n",
       "      <th>ay</th>\n",
       "      <th>az</th>\n",
       "      <th>gx</th>\n",
       "      <th>gy</th>\n",
       "      <th>gz</th>\n",
       "      <th>label</th>\n",
       "    </tr>\n",
       "  </thead>\n",
       "  <tbody>\n",
       "    <tr>\n",
       "      <th>0</th>\n",
       "      <td>normal</td>\n",
       "      <td>-2.07</td>\n",
       "      <td>4.00</td>\n",
       "      <td>8.22</td>\n",
       "      <td>-0.540</td>\n",
       "      <td>-1.06</td>\n",
       "      <td>0.907</td>\n",
       "      <td>1</td>\n",
       "    </tr>\n",
       "    <tr>\n",
       "      <th>1</th>\n",
       "      <td>normal</td>\n",
       "      <td>-2.13</td>\n",
       "      <td>4.03</td>\n",
       "      <td>8.20</td>\n",
       "      <td>-0.515</td>\n",
       "      <td>-1.08</td>\n",
       "      <td>0.910</td>\n",
       "      <td>1</td>\n",
       "    </tr>\n",
       "    <tr>\n",
       "      <th>2</th>\n",
       "      <td>normal</td>\n",
       "      <td>-2.20</td>\n",
       "      <td>4.10</td>\n",
       "      <td>8.22</td>\n",
       "      <td>-0.491</td>\n",
       "      <td>-1.10</td>\n",
       "      <td>0.913</td>\n",
       "      <td>1</td>\n",
       "    </tr>\n",
       "    <tr>\n",
       "      <th>3</th>\n",
       "      <td>normal</td>\n",
       "      <td>-2.28</td>\n",
       "      <td>4.14</td>\n",
       "      <td>8.23</td>\n",
       "      <td>-0.459</td>\n",
       "      <td>-1.12</td>\n",
       "      <td>0.917</td>\n",
       "      <td>1</td>\n",
       "    </tr>\n",
       "    <tr>\n",
       "      <th>4</th>\n",
       "      <td>normal</td>\n",
       "      <td>-2.36</td>\n",
       "      <td>4.22</td>\n",
       "      <td>8.24</td>\n",
       "      <td>-0.431</td>\n",
       "      <td>-1.13</td>\n",
       "      <td>0.919</td>\n",
       "      <td>1</td>\n",
       "    </tr>\n",
       "  </tbody>\n",
       "</table>\n",
       "</div>"
      ],
      "text/plain": [
       "  activity    ax    ay    az     gx    gy     gz  label\n",
       "0   normal -2.07  4.00  8.22 -0.540 -1.06  0.907      1\n",
       "1   normal -2.13  4.03  8.20 -0.515 -1.08  0.910      1\n",
       "2   normal -2.20  4.10  8.22 -0.491 -1.10  0.913      1\n",
       "3   normal -2.28  4.14  8.23 -0.459 -1.12  0.917      1\n",
       "4   normal -2.36  4.22  8.24 -0.431 -1.13  0.919      1"
      ]
     },
     "execution_count": 20,
     "metadata": {},
     "output_type": "execute_result"
    }
   ],
   "source": [
    "new_data = data.dropna(axis=0).copy()\n",
    "new_data.head()"
   ]
  },
  {
   "cell_type": "code",
   "execution_count": 21,
   "metadata": {},
   "outputs": [
    {
     "data": {
      "text/plain": [
       "1    18031\n",
       "0     4488\n",
       "2     3753\n",
       "Name: label, dtype: int64"
      ]
     },
     "execution_count": 21,
     "metadata": {},
     "output_type": "execute_result"
    }
   ],
   "source": [
    "new_data['label'].value_counts()"
   ]
  },
  {
   "cell_type": "code",
   "execution_count": 22,
   "metadata": {},
   "outputs": [
    {
     "data": {
      "text/plain": [
       "normal        18031\n",
       "downstairs     4488\n",
       "upstairs       3753\n",
       "Name: activity, dtype: int64"
      ]
     },
     "execution_count": 22,
     "metadata": {},
     "output_type": "execute_result"
    }
   ],
   "source": [
    "new_data['activity'].value_counts()"
   ]
  },
  {
   "cell_type": "markdown",
   "metadata": {
    "id": "lyCbB0ZXd3F-"
   },
   "source": [
    "Label the Data Like Normal as 1, Upstairs as 2 and so on"
   ]
  },
  {
   "cell_type": "code",
   "execution_count": 23,
   "metadata": {
    "colab": {
     "base_uri": "https://localhost:8080/",
     "height": 206
    },
    "id": "y9g_xke6cu7y",
    "outputId": "f69021da-99d6-47a1-ae92-8c9a4406a69b"
   },
   "outputs": [
    {
     "data": {
      "text/html": [
       "<div>\n",
       "<style scoped>\n",
       "    .dataframe tbody tr th:only-of-type {\n",
       "        vertical-align: middle;\n",
       "    }\n",
       "\n",
       "    .dataframe tbody tr th {\n",
       "        vertical-align: top;\n",
       "    }\n",
       "\n",
       "    .dataframe thead th {\n",
       "        text-align: right;\n",
       "    }\n",
       "</style>\n",
       "<table border=\"1\" class=\"dataframe\">\n",
       "  <thead>\n",
       "    <tr style=\"text-align: right;\">\n",
       "      <th></th>\n",
       "      <th>activity</th>\n",
       "      <th>ax</th>\n",
       "      <th>ay</th>\n",
       "      <th>az</th>\n",
       "      <th>gx</th>\n",
       "      <th>gy</th>\n",
       "      <th>gz</th>\n",
       "      <th>label</th>\n",
       "    </tr>\n",
       "  </thead>\n",
       "  <tbody>\n",
       "    <tr>\n",
       "      <th>0</th>\n",
       "      <td>normal</td>\n",
       "      <td>-2.07</td>\n",
       "      <td>4.00</td>\n",
       "      <td>8.22</td>\n",
       "      <td>-0.540</td>\n",
       "      <td>-1.06</td>\n",
       "      <td>0.907</td>\n",
       "      <td>1</td>\n",
       "    </tr>\n",
       "    <tr>\n",
       "      <th>1</th>\n",
       "      <td>normal</td>\n",
       "      <td>-2.13</td>\n",
       "      <td>4.03</td>\n",
       "      <td>8.20</td>\n",
       "      <td>-0.515</td>\n",
       "      <td>-1.08</td>\n",
       "      <td>0.910</td>\n",
       "      <td>1</td>\n",
       "    </tr>\n",
       "    <tr>\n",
       "      <th>2</th>\n",
       "      <td>normal</td>\n",
       "      <td>-2.20</td>\n",
       "      <td>4.10</td>\n",
       "      <td>8.22</td>\n",
       "      <td>-0.491</td>\n",
       "      <td>-1.10</td>\n",
       "      <td>0.913</td>\n",
       "      <td>1</td>\n",
       "    </tr>\n",
       "    <tr>\n",
       "      <th>3</th>\n",
       "      <td>normal</td>\n",
       "      <td>-2.28</td>\n",
       "      <td>4.14</td>\n",
       "      <td>8.23</td>\n",
       "      <td>-0.459</td>\n",
       "      <td>-1.12</td>\n",
       "      <td>0.917</td>\n",
       "      <td>1</td>\n",
       "    </tr>\n",
       "    <tr>\n",
       "      <th>4</th>\n",
       "      <td>normal</td>\n",
       "      <td>-2.36</td>\n",
       "      <td>4.22</td>\n",
       "      <td>8.24</td>\n",
       "      <td>-0.431</td>\n",
       "      <td>-1.13</td>\n",
       "      <td>0.919</td>\n",
       "      <td>1</td>\n",
       "    </tr>\n",
       "  </tbody>\n",
       "</table>\n",
       "</div>"
      ],
      "text/plain": [
       "  activity    ax    ay    az     gx    gy     gz  label\n",
       "0   normal -2.07  4.00  8.22 -0.540 -1.06  0.907      1\n",
       "1   normal -2.13  4.03  8.20 -0.515 -1.08  0.910      1\n",
       "2   normal -2.20  4.10  8.22 -0.491 -1.10  0.913      1\n",
       "3   normal -2.28  4.14  8.23 -0.459 -1.12  0.917      1\n",
       "4   normal -2.36  4.22  8.24 -0.431 -1.13  0.919      1"
      ]
     },
     "execution_count": 23,
     "metadata": {},
     "output_type": "execute_result"
    }
   ],
   "source": [
    "label = LabelEncoder()                       ###labelling the string to integers\n",
    "\n",
    "new_data['label'] = label.fit_transform(new_data['activity'])\n",
    "new_data.head()"
   ]
  },
  {
   "cell_type": "code",
   "execution_count": 25,
   "metadata": {},
   "outputs": [
    {
     "data": {
      "text/plain": [
       "1    18031\n",
       "0     4488\n",
       "2     3753\n",
       "Name: label, dtype: int64"
      ]
     },
     "execution_count": 25,
     "metadata": {},
     "output_type": "execute_result"
    }
   ],
   "source": [
    "new_data['label'].value_counts()"
   ]
  },
  {
   "cell_type": "code",
   "execution_count": 26,
   "metadata": {
    "colab": {
     "base_uri": "https://localhost:8080/"
    },
    "id": "2ITj4HhK4MHS",
    "outputId": "2990f874-c81d-4a7b-af6b-4c316a2a6f7c"
   },
   "outputs": [
    {
     "data": {
      "text/plain": [
       "array(['downstairs', 'normal', 'upstairs'], dtype=object)"
      ]
     },
     "execution_count": 26,
     "metadata": {},
     "output_type": "execute_result"
    }
   ],
   "source": [
    "label.classes_   ##checking the label"
   ]
  },
  {
   "cell_type": "code",
   "execution_count": 27,
   "metadata": {
    "colab": {
     "base_uri": "https://localhost:8080/"
    },
    "id": "lO5f2cBTwGPH",
    "outputId": "684d5240-809c-40c3-f28e-37404404839c"
   },
   "outputs": [
    {
     "data": {
      "text/plain": [
       "normal        18031\n",
       "downstairs     4488\n",
       "upstairs       3753\n",
       "Name: activity, dtype: int64"
      ]
     },
     "execution_count": 27,
     "metadata": {},
     "output_type": "execute_result"
    }
   ],
   "source": [
    "new_data['activity'].value_counts()               ###for checking the balance of data"
   ]
  },
  {
   "cell_type": "code",
   "execution_count": 28,
   "metadata": {
    "id": "tAwAJxTIxQd5"
   },
   "outputs": [],
   "source": [
    "new_data['ax'] = new_data['ax'].astype(float)         ###convert the data to float\n",
    "new_data['ay'] = new_data['ay'].astype(float)\n",
    "new_data['az'] = new_data['az'].astype(float)\n",
    "new_data['gx'] = new_data['gx'].astype(float)\n",
    "new_data['gy'] = new_data['gy'].astype(float)\n",
    "new_data['gz'] = new_data['gz'].astype(float)"
   ]
  },
  {
   "cell_type": "code",
   "execution_count": null,
   "metadata": {
    "id": "beRo4PW-x-Bd"
   },
   "outputs": [],
   "source": [
    "####plotting the data as per the activity /// if needed\n"
   ]
  },
  {
   "cell_type": "code",
   "execution_count": 29,
   "metadata": {
    "id": "1OsvBWwmT3Vb"
   },
   "outputs": [],
   "source": [
    "normal = new_data[new_data['activity']=='normal'].head(3753).copy()                 #### not needed in final code as data will be balanced.... \n",
    "                                                                            #### This is just a random csv file I made to check the code\n",
    "downstairs = new_data[new_data['activity']=='downstairs'].head(3753).copy()\n",
    "upstairs = new_data[new_data['activity']=='upstairs'].head(3753).copy()"
   ]
  },
  {
   "cell_type": "code",
   "execution_count": 30,
   "metadata": {
    "colab": {
     "base_uri": "https://localhost:8080/",
     "height": 206
    },
    "id": "-J1Lt2zy0rPc",
    "outputId": "4b65f1a4-f2c0-4856-c275-3976d1f4f978"
   },
   "outputs": [
    {
     "data": {
      "text/html": [
       "<div>\n",
       "<style scoped>\n",
       "    .dataframe tbody tr th:only-of-type {\n",
       "        vertical-align: middle;\n",
       "    }\n",
       "\n",
       "    .dataframe tbody tr th {\n",
       "        vertical-align: top;\n",
       "    }\n",
       "\n",
       "    .dataframe thead th {\n",
       "        text-align: right;\n",
       "    }\n",
       "</style>\n",
       "<table border=\"1\" class=\"dataframe\">\n",
       "  <thead>\n",
       "    <tr style=\"text-align: right;\">\n",
       "      <th></th>\n",
       "      <th>activity</th>\n",
       "      <th>ax</th>\n",
       "      <th>ay</th>\n",
       "      <th>az</th>\n",
       "      <th>gx</th>\n",
       "      <th>gy</th>\n",
       "      <th>gz</th>\n",
       "      <th>label</th>\n",
       "    </tr>\n",
       "  </thead>\n",
       "  <tbody>\n",
       "    <tr>\n",
       "      <th>0</th>\n",
       "      <td>normal</td>\n",
       "      <td>-2.07</td>\n",
       "      <td>4.00</td>\n",
       "      <td>8.22</td>\n",
       "      <td>-0.540</td>\n",
       "      <td>-1.06</td>\n",
       "      <td>0.907</td>\n",
       "      <td>1</td>\n",
       "    </tr>\n",
       "    <tr>\n",
       "      <th>1</th>\n",
       "      <td>normal</td>\n",
       "      <td>-2.13</td>\n",
       "      <td>4.03</td>\n",
       "      <td>8.20</td>\n",
       "      <td>-0.515</td>\n",
       "      <td>-1.08</td>\n",
       "      <td>0.910</td>\n",
       "      <td>1</td>\n",
       "    </tr>\n",
       "    <tr>\n",
       "      <th>2</th>\n",
       "      <td>normal</td>\n",
       "      <td>-2.20</td>\n",
       "      <td>4.10</td>\n",
       "      <td>8.22</td>\n",
       "      <td>-0.491</td>\n",
       "      <td>-1.10</td>\n",
       "      <td>0.913</td>\n",
       "      <td>1</td>\n",
       "    </tr>\n",
       "    <tr>\n",
       "      <th>3</th>\n",
       "      <td>normal</td>\n",
       "      <td>-2.28</td>\n",
       "      <td>4.14</td>\n",
       "      <td>8.23</td>\n",
       "      <td>-0.459</td>\n",
       "      <td>-1.12</td>\n",
       "      <td>0.917</td>\n",
       "      <td>1</td>\n",
       "    </tr>\n",
       "    <tr>\n",
       "      <th>4</th>\n",
       "      <td>normal</td>\n",
       "      <td>-2.36</td>\n",
       "      <td>4.22</td>\n",
       "      <td>8.24</td>\n",
       "      <td>-0.431</td>\n",
       "      <td>-1.13</td>\n",
       "      <td>0.919</td>\n",
       "      <td>1</td>\n",
       "    </tr>\n",
       "  </tbody>\n",
       "</table>\n",
       "</div>"
      ],
      "text/plain": [
       "  activity    ax    ay    az     gx    gy     gz  label\n",
       "0   normal -2.07  4.00  8.22 -0.540 -1.06  0.907      1\n",
       "1   normal -2.13  4.03  8.20 -0.515 -1.08  0.910      1\n",
       "2   normal -2.20  4.10  8.22 -0.491 -1.10  0.913      1\n",
       "3   normal -2.28  4.14  8.23 -0.459 -1.12  0.917      1\n",
       "4   normal -2.36  4.22  8.24 -0.431 -1.13  0.919      1"
      ]
     },
     "execution_count": 30,
     "metadata": {},
     "output_type": "execute_result"
    }
   ],
   "source": [
    "final_data = pd.DataFrame()                            ####creating dataframe.... Not needed\n",
    "final_data = final_data.append([normal, upstairs, downstairs])\n",
    "final_data.shape\n",
    "final_data.head()"
   ]
  },
  {
   "cell_type": "code",
   "execution_count": 31,
   "metadata": {
    "colab": {
     "base_uri": "https://localhost:8080/"
    },
    "id": "jXuy03k6VZp9",
    "outputId": "e499e19e-b45d-4d90-b29c-8bb383c1faac"
   },
   "outputs": [
    {
     "data": {
      "text/plain": [
       "normal        3753\n",
       "upstairs      3753\n",
       "downstairs    3753\n",
       "Name: activity, dtype: int64"
      ]
     },
     "execution_count": 31,
     "metadata": {},
     "output_type": "execute_result"
    }
   ],
   "source": [
    "final_data.value_counts()\n",
    "final_data['activity'].value_counts()"
   ]
  },
  {
   "cell_type": "code",
   "execution_count": 33,
   "metadata": {
    "id": "ifv21HPc5Hfs"
   },
   "outputs": [],
   "source": [
    " ### Data Standarisation\n",
    "\n",
    " x = final_data[['ax', 'ay', 'az', 'gx', 'gy', 'gz']]\n",
    " y = final_data['label']"
   ]
  },
  {
   "cell_type": "code",
   "execution_count": 38,
   "metadata": {
    "colab": {
     "base_uri": "https://localhost:8080/",
     "height": 424
    },
    "id": "ZzAY9fzQEgw1",
    "outputId": "e56d1f37-d57a-45ee-b602-942827583380"
   },
   "outputs": [
    {
     "data": {
      "text/html": [
       "<div>\n",
       "<style scoped>\n",
       "    .dataframe tbody tr th:only-of-type {\n",
       "        vertical-align: middle;\n",
       "    }\n",
       "\n",
       "    .dataframe tbody tr th {\n",
       "        vertical-align: top;\n",
       "    }\n",
       "\n",
       "    .dataframe thead th {\n",
       "        text-align: right;\n",
       "    }\n",
       "</style>\n",
       "<table border=\"1\" class=\"dataframe\">\n",
       "  <thead>\n",
       "    <tr style=\"text-align: right;\">\n",
       "      <th></th>\n",
       "      <th>ax</th>\n",
       "      <th>ay</th>\n",
       "      <th>az</th>\n",
       "      <th>gx</th>\n",
       "      <th>gy</th>\n",
       "      <th>gz</th>\n",
       "      <th>label</th>\n",
       "    </tr>\n",
       "  </thead>\n",
       "  <tbody>\n",
       "    <tr>\n",
       "      <th>0</th>\n",
       "      <td>-1.236010</td>\n",
       "      <td>3.193491</td>\n",
       "      <td>1.793126</td>\n",
       "      <td>-0.634609</td>\n",
       "      <td>-1.299356</td>\n",
       "      <td>1.030879</td>\n",
       "      <td>1</td>\n",
       "    </tr>\n",
       "    <tr>\n",
       "      <th>1</th>\n",
       "      <td>-1.256316</td>\n",
       "      <td>3.201316</td>\n",
       "      <td>1.785786</td>\n",
       "      <td>-0.602253</td>\n",
       "      <td>-1.324355</td>\n",
       "      <td>1.034480</td>\n",
       "      <td>1</td>\n",
       "    </tr>\n",
       "    <tr>\n",
       "      <th>2</th>\n",
       "      <td>-1.280007</td>\n",
       "      <td>3.219573</td>\n",
       "      <td>1.793126</td>\n",
       "      <td>-0.571191</td>\n",
       "      <td>-1.349354</td>\n",
       "      <td>1.038081</td>\n",
       "      <td>1</td>\n",
       "    </tr>\n",
       "    <tr>\n",
       "      <th>3</th>\n",
       "      <td>-1.307081</td>\n",
       "      <td>3.230006</td>\n",
       "      <td>1.796796</td>\n",
       "      <td>-0.529775</td>\n",
       "      <td>-1.374353</td>\n",
       "      <td>1.042883</td>\n",
       "      <td>1</td>\n",
       "    </tr>\n",
       "    <tr>\n",
       "      <th>4</th>\n",
       "      <td>-1.334156</td>\n",
       "      <td>3.250872</td>\n",
       "      <td>1.800466</td>\n",
       "      <td>-0.493536</td>\n",
       "      <td>-1.386853</td>\n",
       "      <td>1.045283</td>\n",
       "      <td>1</td>\n",
       "    </tr>\n",
       "    <tr>\n",
       "      <th>...</th>\n",
       "      <td>...</td>\n",
       "      <td>...</td>\n",
       "      <td>...</td>\n",
       "      <td>...</td>\n",
       "      <td>...</td>\n",
       "      <td>...</td>\n",
       "      <td>...</td>\n",
       "    </tr>\n",
       "    <tr>\n",
       "      <th>11254</th>\n",
       "      <td>1.007811</td>\n",
       "      <td>0.001018</td>\n",
       "      <td>-0.243684</td>\n",
       "      <td>0.073515</td>\n",
       "      <td>-0.105651</td>\n",
       "      <td>-0.057218</td>\n",
       "      <td>0</td>\n",
       "    </tr>\n",
       "    <tr>\n",
       "      <th>11255</th>\n",
       "      <td>1.051807</td>\n",
       "      <td>-0.001591</td>\n",
       "      <td>-0.258363</td>\n",
       "      <td>0.065081</td>\n",
       "      <td>-0.131900</td>\n",
       "      <td>-0.058754</td>\n",
       "      <td>0</td>\n",
       "    </tr>\n",
       "    <tr>\n",
       "      <th>11256</th>\n",
       "      <td>1.156722</td>\n",
       "      <td>-0.035498</td>\n",
       "      <td>-0.258363</td>\n",
       "      <td>0.078007</td>\n",
       "      <td>-0.143149</td>\n",
       "      <td>-0.050277</td>\n",
       "      <td>0</td>\n",
       "    </tr>\n",
       "    <tr>\n",
       "      <th>11257</th>\n",
       "      <td>1.116110</td>\n",
       "      <td>-0.051147</td>\n",
       "      <td>-0.295063</td>\n",
       "      <td>0.092114</td>\n",
       "      <td>-0.151899</td>\n",
       "      <td>-0.043591</td>\n",
       "      <td>0</td>\n",
       "    </tr>\n",
       "    <tr>\n",
       "      <th>11258</th>\n",
       "      <td>1.051807</td>\n",
       "      <td>-0.040714</td>\n",
       "      <td>-0.320752</td>\n",
       "      <td>0.097938</td>\n",
       "      <td>-0.146899</td>\n",
       "      <td>-0.040230</td>\n",
       "      <td>0</td>\n",
       "    </tr>\n",
       "  </tbody>\n",
       "</table>\n",
       "<p>11259 rows × 7 columns</p>\n",
       "</div>"
      ],
      "text/plain": [
       "             ax        ay        az        gx        gy        gz  label\n",
       "0     -1.236010  3.193491  1.793126 -0.634609 -1.299356  1.030879      1\n",
       "1     -1.256316  3.201316  1.785786 -0.602253 -1.324355  1.034480      1\n",
       "2     -1.280007  3.219573  1.793126 -0.571191 -1.349354  1.038081      1\n",
       "3     -1.307081  3.230006  1.796796 -0.529775 -1.374353  1.042883      1\n",
       "4     -1.334156  3.250872  1.800466 -0.493536 -1.386853  1.045283      1\n",
       "...         ...       ...       ...       ...       ...       ...    ...\n",
       "11254  1.007811  0.001018 -0.243684  0.073515 -0.105651 -0.057218      0\n",
       "11255  1.051807 -0.001591 -0.258363  0.065081 -0.131900 -0.058754      0\n",
       "11256  1.156722 -0.035498 -0.258363  0.078007 -0.143149 -0.050277      0\n",
       "11257  1.116110 -0.051147 -0.295063  0.092114 -0.151899 -0.043591      0\n",
       "11258  1.051807 -0.040714 -0.320752  0.097938 -0.146899 -0.040230      0\n",
       "\n",
       "[11259 rows x 7 columns]"
      ]
     },
     "execution_count": 38,
     "metadata": {},
     "output_type": "execute_result"
    }
   ],
   "source": [
    "scaler = StandardScaler()\n",
    "X = scaler.fit_transform(x)\n",
    "\n",
    "scaled_X = pd.DataFrame(data = X, columns=['ax', 'ay', 'az', 'gx', 'gy', 'gz'])\n",
    "scaled_X['label'] = y.values\n",
    "\n",
    "scaled_X"
   ]
  },
  {
   "cell_type": "code",
   "execution_count": 42,
   "metadata": {},
   "outputs": [],
   "source": [
    "import scipy.stats as stats"
   ]
  },
  {
   "cell_type": "code",
   "execution_count": 75,
   "metadata": {
    "id": "rIRsKD7xFaRk"
   },
   "outputs": [],
   "source": [
    "###Frame Preparation\n",
    "\n",
    "Fs = 50\n",
    "\n",
    "frame_size = Fs*4\n",
    "hop_size = Fs*2"
   ]
  },
  {
   "cell_type": "code",
   "execution_count": 76,
   "metadata": {
    "id": "iZreA1xsF_1J"
   },
   "outputs": [],
   "source": [
    "def get_frames(data, frame_size, hop_size):\n",
    "\n",
    "    N_FEATURES = 6\n",
    "\n",
    "    frames = []\n",
    "    labels = []\n",
    "    for i in range(0, len(data) - frame_size, hop_size):\n",
    "        x1 = data['ax'].values[i: i + frame_size]\n",
    "        y1 = data['ay'].values[i: i + frame_size]\n",
    "        z1 = data['az'].values[i: i + frame_size]\n",
    "        x2 = data['gx'].values[i: i + frame_size]\n",
    "        y2 = data['gy'].values[i: i + frame_size]\n",
    "        z2 = data['gz'].values[i: i + frame_size]\n",
    "        \n",
    "        # Retrieve the most often used label in this segment\n",
    "        label = stats.mode(data['label'][i: i + frame_size])[0][0]\n",
    "        frames.append([x1, y1, z1, x2, y2, z2])\n",
    "        labels.append(label)\n",
    "\n",
    "    # Bring the segments into a better shape\n",
    "    frames = np.asarray(frames).reshape(-1, frame_size, N_FEATURES)\n",
    "    labels = np.asarray(labels)\n",
    "\n",
    "    return frames, labels"
   ]
  },
  {
   "cell_type": "code",
   "execution_count": 97,
   "metadata": {
    "colab": {
     "base_uri": "https://localhost:8080/"
    },
    "id": "fvPHHlnaIXNF",
    "outputId": "ca744efa-282b-40a1-c7af-2717e08d5d1d"
   },
   "outputs": [
    {
     "data": {
      "text/plain": [
       "((111, 200, 6), (111,))"
      ]
     },
     "execution_count": 97,
     "metadata": {},
     "output_type": "execute_result"
    }
   ],
   "source": [
    "X, y = get_frames(scaled_X, frame_size, hop_size)\n",
    "\n",
    "X.shape, y.shape"
   ]
  },
  {
   "cell_type": "code",
   "execution_count": 98,
   "metadata": {
    "colab": {
     "base_uri": "https://localhost:8080/"
    },
    "id": "1rkbnkmWInF2",
    "outputId": "b4567b77-ff63-4364-cfe5-d691e4a8716a"
   },
   "outputs": [
    {
     "data": {
      "text/plain": [
       "((88, 200, 6), (23, 200, 6))"
      ]
     },
     "execution_count": 98,
     "metadata": {},
     "output_type": "execute_result"
    }
   ],
   "source": [
    "X_train, X_test, y_train, y_test = train_test_split(X, y, test_size = 0.2, random_state=0, stratify = y)\n",
    "X_train.shape, X_test.shape"
   ]
  },
  {
   "cell_type": "code",
   "execution_count": 99,
   "metadata": {},
   "outputs": [
    {
     "data": {
      "text/plain": [
       "((200, 6), (200, 6))"
      ]
     },
     "execution_count": 99,
     "metadata": {},
     "output_type": "execute_result"
    }
   ],
   "source": [
    "X_train[0].shape, X_test[0].shape"
   ]
  },
  {
   "cell_type": "code",
   "execution_count": 100,
   "metadata": {},
   "outputs": [],
   "source": [
    "X_train = X_train.reshape(88,200,6,1)\n",
    "X_test = X_test.reshape(23,200,6,1)"
   ]
  },
  {
   "cell_type": "code",
   "execution_count": 101,
   "metadata": {},
   "outputs": [
    {
     "data": {
      "text/plain": [
       "((200, 6, 1), (200, 6, 1))"
      ]
     },
     "execution_count": 101,
     "metadata": {},
     "output_type": "execute_result"
    }
   ],
   "source": [
    "X_train[0].shape, X_test[0].shape"
   ]
  },
  {
   "cell_type": "code",
   "execution_count": 102,
   "metadata": {},
   "outputs": [],
   "source": [
    "model = Sequential()\n",
    "model.add(Conv2D(16,(2,2),activation = 'relu', input_shape = X_train[0].shape))\n",
    "model.add(Dropout(0.1))\n",
    "\n",
    "model.add(Conv2D(32,(2,2), activation = 'relu'))\n",
    "model.add(Dropout(0.2))\n",
    "\n",
    "model.add(Flatten())\n",
    "\n",
    "model.add(Dense(64, activation = 'relu'))\n",
    "model.add(Dropout(0.5))\n",
    "\n",
    "model.add(Dense(6, activation = 'softmax'))  # 'softmax' Because we have multi class (6) classification problem."
   ]
  },
  {
   "cell_type": "code",
   "execution_count": 107,
   "metadata": {},
   "outputs": [],
   "source": [
    "model.compile(optimizer = Adam(learning_rate = 0.001), loss = 'sparse_categorical_crossentropy', metrics = ['accuracy'])"
   ]
  },
  {
   "cell_type": "code",
   "execution_count": 108,
   "metadata": {},
   "outputs": [
    {
     "name": "stdout",
     "output_type": "stream",
     "text": [
      "Epoch 1/10\n",
      "3/3 [==============================] - 1s 109ms/step - loss: 1.6371 - accuracy: 0.3068 - val_loss: 1.2144 - val_accuracy: 0.5652\n",
      "Epoch 2/10\n",
      "3/3 [==============================] - 0s 51ms/step - loss: 1.1983 - accuracy: 0.5114 - val_loss: 1.3962 - val_accuracy: 0.4783\n",
      "Epoch 3/10\n",
      "3/3 [==============================] - 0s 49ms/step - loss: 0.9183 - accuracy: 0.6477 - val_loss: 1.3521 - val_accuracy: 0.5217\n",
      "Epoch 4/10\n",
      "3/3 [==============================] - 0s 49ms/step - loss: 0.7981 - accuracy: 0.6250 - val_loss: 1.3650 - val_accuracy: 0.5217\n",
      "Epoch 5/10\n",
      "3/3 [==============================] - 0s 52ms/step - loss: 0.6516 - accuracy: 0.7386 - val_loss: 1.5615 - val_accuracy: 0.5217\n",
      "Epoch 6/10\n",
      "3/3 [==============================] - 0s 49ms/step - loss: 0.5274 - accuracy: 0.8182 - val_loss: 1.6828 - val_accuracy: 0.5217\n",
      "Epoch 7/10\n",
      "3/3 [==============================] - 0s 50ms/step - loss: 0.6467 - accuracy: 0.7841 - val_loss: 1.7196 - val_accuracy: 0.5652\n",
      "Epoch 8/10\n",
      "3/3 [==============================] - 0s 53ms/step - loss: 0.4229 - accuracy: 0.8523 - val_loss: 1.7582 - val_accuracy: 0.5652\n",
      "Epoch 9/10\n",
      "3/3 [==============================] - 0s 49ms/step - loss: 0.4314 - accuracy: 0.8750 - val_loss: 1.8176 - val_accuracy: 0.5652\n",
      "Epoch 10/10\n",
      "3/3 [==============================] - 0s 50ms/step - loss: 0.3291 - accuracy: 0.8977 - val_loss: 1.9109 - val_accuracy: 0.6087\n"
     ]
    }
   ],
   "source": [
    "history = model.fit(X_train, y_train, epochs = 10, validation_data = (X_test, y_test), verbose = 1)"
   ]
  },
  {
   "cell_type": "code",
   "execution_count": null,
   "metadata": {},
   "outputs": [],
   "source": []
  }
 ],
 "metadata": {
  "colab": {
   "collapsed_sections": [],
   "name": "basic_neuralnetwork_code.ipynb",
   "provenance": []
  },
  "kernelspec": {
   "display_name": "Python 3 (ipykernel)",
   "language": "python",
   "name": "python3"
  },
  "language_info": {
   "codemirror_mode": {
    "name": "ipython",
    "version": 3
   },
   "file_extension": ".py",
   "mimetype": "text/x-python",
   "name": "python",
   "nbconvert_exporter": "python",
   "pygments_lexer": "ipython3",
   "version": "3.8.10"
  }
 },
 "nbformat": 4,
 "nbformat_minor": 1
}
